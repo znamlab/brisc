{
 "cells": [
  {
   "cell_type": "code",
   "execution_count": null,
   "metadata": {},
   "outputs": [],
   "source": [
    "import pandas as pd\n",
    "import os\n",
    "from pathlib import Path\n",
    "from brisc.manuscript_analysis.utils import get_path"
   ]
  },
  {
   "cell_type": "code",
   "execution_count": null,
   "metadata": {},
   "outputs": [],
   "source": [
    "DATA_ROOT = \"/Users/blota/Data/brisc\"\n",
    "DATA_ROOT = get_path(\"barcode_diversity_analysis\", DATA_ROOT)"
   ]
  },
  {
   "cell_type": "code",
   "execution_count": null,
   "metadata": {},
   "outputs": [],
   "source": [
    "# To download source data, go to:\n",
    "# Saunders et al. (2023) Source Data 1f doi: 10.1038/s41467-022-34334-1\n",
    "\n",
    "# Clark et al. (2021) GSM4519333\n",
    "\n",
    "# Zhang et al. (2024) SRR23310757 (in fig), SRR23310756, SRR23310758\n",
    "\n",
    "# Shin et al. (2024) GSE277536 (all data), GSM8524116, GSM8524119 (in fig.)"
   ]
  },
  {
   "cell_type": "code",
   "execution_count": null,
   "metadata": {},
   "outputs": [],
   "source": [
    "# Convert Saunders et al. data\n",
    "data_path = DATA_ROOT / \"saunders_source_data\"\n",
    "\n",
    "df = pd.read_csv(\n",
    "    data_path / \"Figure_1f.csv\",\n",
    "    sep=\",\",\n",
    "    usecols=[\"file_type\", \"n_unique_umibc_pairs\", \"n_count\"],\n",
    ")\n",
    "df = df[df.file_type == \"Pseudotyped_Concatenated\"][1:]\n",
    "single_column = (\n",
    "    df.apply(lambda r: [r[\"n_unique_umibc_pairs\"]] * int(r[\"n_count\"]), axis=1)\n",
    "    .explode()\n",
    "    .astype(int)\n",
    "    .reset_index(drop=True)\n",
    ")\n",
    "\n",
    "single_column.to_csv(\n",
    "    data_path.parent\n",
    "    / \"collapsed_barcodes\"\n",
    "    / \"saunders_pseudotyped\"\n",
    "    / \"saunders_pseudotyped_bowtie_ed2.txt\",\n",
    "    index=False,\n",
    "    header=False,\n",
    ")\n",
    "\n",
    "\n",
    "# Convert Shin et al. data\n",
    "input_dir = DATA_ROOT / \"raw\" / \"GSE277536_RAW\"\n",
    "output_dir = DATA_ROOT / \"collapsed_barcodes\"\n",
    "\n",
    "# Find all barcode counts files\n",
    "files = [f for f in os.listdir(input_dir) if f.endswith(\"_BarcodeCounts.tsv\")]\n",
    "\n",
    "for file_name in files:\n",
    "    input_file_path = os.path.join(input_dir, file_name)\n",
    "    # Extract prefix for output subfolder\n",
    "    prefix = file_name.split(\"_BarcodeCounts.tsv\")[0]\n",
    "    output_subfolder = os.path.join(output_dir, prefix)\n",
    "    os.makedirs(output_subfolder, exist_ok=True)\n",
    "    output_file_path = os.path.join(output_subfolder, f\"{prefix}.txt\")\n",
    "    ed2_output_file_path = os.path.join(output_subfolder, f\"{prefix}_bowtie_ed2.txt\")\n",
    "\n",
    "    # Read the input file and process it\n",
    "    try:\n",
    "        df = pd.read_csv(input_file_path, sep=\"\\t\", header=0)\n",
    "        df[\"barcode\"] = df[\"barcode\"].str.replace(\"_\", \"\", regex=False)\n",
    "        df = df[[\"UMI_Count\", \"barcode\"]].rename(\n",
    "            columns={\"UMI_Count\": \"count\", \"barcode\": \"barcode\"}\n",
    "        )\n",
    "        df = df.sort_values(by=\"count\", ascending=False)\n",
    "\n",
    "        # Save to the output file\n",
    "        df.to_csv(output_file_path, sep=\"\\t\", header=False, index=False)\n",
    "        df.to_csv(ed2_output_file_path, sep=\"\\t\", header=False, index=False)\n",
    "        print(f\"Processed and saved: {output_file_path}\")\n",
    "\n",
    "    except Exception as e:\n",
    "        print(f\"Failed to process {input_file_path}: {e}\")\n",
    "\n",
    "print(\"Processing complete!\")\n",
    "\n",
    "# Convert Clark et al. data\n",
    "clark_data_path = DATA_ROOT / \"clark_rabies\"\n",
    "\n",
    "clark_df = pd.read_csv(\n",
    "    clark_data_path / \"GSM4519333_Viral.Barcodes.count.table.tsv\",\n",
    "    sep=\"\\t\",\n",
    "    header=None,\n",
    ")\n",
    "# switch the two columns and then resave with a different name, there are no headers\n",
    "clark_df = clark_df[[1, 0]]\n",
    "clark_df.to_csv(\n",
    "    clark_data_path.parent / \"collapsed_barcodes\" / \"clark_rabies_bowtie_ed2.txt\",\n",
    "    sep=\"\\t\",\n",
    "    header=False,\n",
    "    index=False,\n",
    ")\n",
    "\n",
    "# Convert Zhang et al. data by running batch_bowtie_collapse.sh on SRR23310756.fastq SRR23310757.fastq SRR23310758.fastq\n",
    "# Before running the script, ensure that the fastq files to process are listed in fastqs.txt"
   ]
  }
 ],
 "metadata": {
  "kernelspec": {
   "language": "python"
  },
  "language_info": {
   "codemirror_mode": {
    "name": "ipython",
    "version": 3
   },
   "file_extension": ".py",
   "mimetype": "text/x-python",
   "name": "python",
   "nbconvert_exporter": "python",
   "pygments_lexer": "ipython3"
  }
 },
 "nbformat": 4,
 "nbformat_minor": 2
}
