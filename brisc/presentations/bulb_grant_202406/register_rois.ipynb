{
 "cells": [
  {
   "cell_type": "markdown",
   "metadata": {},
   "source": [
    "# Register ROI\n",
    "\n",
    "Attempt to register all ROIs together using dapi"
   ]
  },
  {
   "cell_type": "code",
   "execution_count": null,
   "metadata": {},
   "outputs": [],
   "source": [
    "%matplotlib inline\n",
    "%load_ext autoreload\n",
    "%autoreload 2"
   ]
  },
  {
   "cell_type": "code",
   "execution_count": null,
   "metadata": {},
   "outputs": [],
   "source": [
    "project = \"becalia_rabies_barseq\"\n",
    "mouse = \"BRAC8498.3e\"\n",
    "\n",
    "to_flip = [('chamber_07', r) for r in [1,2,3,5,6,7,8,  10]]\n"
   ]
  },
  {
   "cell_type": "code",
   "execution_count": null,
   "metadata": {},
   "outputs": [],
   "source": [
    "import tifffile\n",
    "import numpy as np\n",
    "import matplotlib.pyplot as plt\n",
    "import iss_preprocess as issp\n",
    "import iss_analysis as issa\n",
    "from image_tools.similarity_transforms import make_transform, transform_image"
   ]
  },
  {
   "cell_type": "code",
   "execution_count": null,
   "metadata": {},
   "outputs": [],
   "source": [
    "from tqdm import tqdm\n",
    "from skimage.transform import SimilarityTransform, warp\n",
    "\n",
    "\n",
    "def iterative_tform(images, use_masked_correlation=True, max_shift=100):\n",
    "    reference = None\n",
    "    registered = np.zeros_like(images)\n",
    "    transform_params = []\n",
    "    for i_img, img in tqdm(enumerate(images), total=len(images)):\n",
    "        if reference is None:\n",
    "            reference = img.copy()\n",
    "            transform_params.append((0, (0,0)))\n",
    "            registered[i_img] = reference\n",
    "            continue\n",
    "        target = img.copy()\n",
    "        if use_masked_correlation:\n",
    "            target_mask = target > 0\n",
    "            reference_mask = reference > 0\n",
    "        else:\n",
    "            target_mask = None\n",
    "            reference_mask = None\n",
    "        best_angle, shift,db = issp.reg.rounds_and_channels.estimate_rotation_translation(\n",
    "            reference=reference,\n",
    "            target=target,\n",
    "            angle_range=30.0,\n",
    "            niter=3,\n",
    "            nangles=25,\n",
    "            reference_mask=reference_mask,\n",
    "            target_mask=target_mask,\n",
    "            upsample=None,\n",
    "            min_shift=0,\n",
    "            max_shift=max_shift,\n",
    "            iter_range_factor=5.0,\n",
    "            debug=True,\n",
    "        )\n",
    "        # the transformed target becomes the new reference\n",
    "        reference = transform_image(target, scale=1, angle=best_angle, shift=shift)\n",
    "        registered[i_img] = reference.copy()\n",
    "        transform_params.append((best_angle, shift))\n",
    "    return registered, transform_params\n"
   ]
  },
  {
   "cell_type": "code",
   "execution_count": null,
   "metadata": {},
   "outputs": [],
   "source": [
    "# attempt with rabies\n",
    "error_correction_ds_name=\"BRAC8498.3e_error_corrected_barcodes_10\"\n",
    "rab_df, rab_cells_barcodes, rab_cells_properties = issa.segment.get_barcode_in_cells(\n",
    "    project, mouse, error_correction_ds_name, valid_chambers=None, save_folder=None, verbose=True\n",
    ")"
   ]
  },
  {
   "cell_type": "code",
   "execution_count": null,
   "metadata": {},
   "outputs": [],
   "source": [
    "rab_cells_properties.head()"
   ]
  },
  {
   "cell_type": "code",
   "execution_count": null,
   "metadata": {},
   "outputs": [],
   "source": [
    "chamber = 'chamber_08'\n",
    "roi = 4\n",
    "data_path = f\"{project}/{mouse}/{chamber}\"\n",
    "manual_folder = issp.io.get_processed_path(data_path) / 'manual_starter_click'\n",
    "fname_ds = manual_folder / f\"{mouse}_{chamber}_{roi}_reference_ds.tif\"\n",
    "reference = tifffile.imread(fname_ds)\n",
    "print(reference.shape)"
   ]
  },
  {
   "cell_type": "code",
   "execution_count": null,
   "metadata": {},
   "outputs": [],
   "source": [
    "spots = rab_df[rab_df['cell_mask'] != -1 ].copy()\n",
    "factor = 40\n",
    "\n",
    "big_shape = np.array([rab_df.y.max() + factor ,rab_df.x.max() + factor]).astype(int)\n",
    "print(f\"Big shape: {big_shape}\")\n",
    "spots['x'] //= factor\n",
    "spots['y'] //= factor\n",
    "small_shape = big_shape // factor\n",
    "print(f\"Small shape: {small_shape}\")\n",
    "roi_list = list(rab_df[['chamber', 'roi']].drop_duplicates().values)\n",
    "rabies_img_stack = np.zeros((len(roi_list), *small_shape))\n",
    "for iroi, (c, r) in enumerate(roi_list):\n",
    "    df = spots[(spots.chamber==c) & (spots.roi==r)].copy()\n",
    "    if (c,r) in to_flip:\n",
    "        assert np.all(df['y'] < small_shape[0])\n",
    "        df['y'] = small_shape[0] - df['y']\n",
    "    img = issp.segment.spots.make_spot_image(df, gaussian_width=5, dtype=\"single\", output_shape=small_shape)\n",
    "    rabies_img_stack[iroi] = img"
   ]
  },
  {
   "cell_type": "code",
   "execution_count": null,
   "metadata": {},
   "outputs": [],
   "source": [
    "fig, axes = plt.subplots(8,5, figsize=(20,30))\n",
    "\n",
    "for i, (r,c) in enumerate(roi_list):\n",
    "    ax = axes.flatten()[i]\n",
    "    ax.imshow(rabies_img_stack[i].T, origin='lower')\n",
    "    ax.set_title(f\"{r}-{c}\")\n",
    "    ax.set_axis_off()"
   ]
  },
  {
   "cell_type": "code",
   "execution_count": null,
   "metadata": {},
   "outputs": [],
   "source": [
    "redo = False\n",
    "target_path = issp.io.get_processed_path(f\"{project}/{mouse}\") / f'registered_stack_from_rabies.tif'\n",
    "tf_file = issp.io.get_processed_path(f\"{project}/{mouse}\") / \"tforms_from_rabies.npy\"\n",
    "if not redo and target_path.exists():\n",
    "    registered = tifffile.imread(target_path)\n",
    "    transform_params = np.load(tf_file)\n",
    "else:\n",
    "    registered, transform_params = iterative_tform(rabies_img_stack, use_masked_correlation=True, max_shift=small_shape[0]//10)\n",
    "    tifffile.imwrite(target_path, registered)\n",
    "    transform_params = np.vstack([np.hstack(t) for t in transform_params])\n",
    "    np.save(tf_file, transform_params)\n"
   ]
  },
  {
   "cell_type": "code",
   "execution_count": null,
   "metadata": {},
   "outputs": [],
   "source": [
    "fig, axes = plt.subplots(8, 5, figsize=(20, 30))\n",
    "iax = 0\n",
    "which = registered\n",
    "for iroi, (chamber, roi) in enumerate(roi_list):\n",
    "    ax = axes.flatten()[iroi]\n",
    "    if not iroi:\n",
    "        ref = which[iroi]\n",
    "    elif iroi == 1:\n",
    "        ref = which[iroi-1]\n",
    "    else:\n",
    "        ref = np.mean(which[[iroi-2, iroi-1]], axis=0)\n",
    "\n",
    "    st = np.dstack([ref.T, which[iroi].T, rabies_img_stack[0].T])\n",
    "    rgb = issp.vis.to_rgb(st, colors=[(1,0,1), (0,1,0), (0,0,1)], vmax=[50, 50, 1000], vmin=[0]*3)\n",
    "    ax.imshow(rgb, origin='lower')\n",
    "    iax += 1\n",
    "    ax.set_title(f\"{chamber} roi {roi}\")\n",
    "\n",
    "for iax, x in enumerate(axes.flatten()):\n",
    "    x.set_aspect('equal')\n",
    "    x.set_axis_off()\n",
    " \n",
    "\n"
   ]
  },
  {
   "cell_type": "code",
   "execution_count": null,
   "metadata": {},
   "outputs": [],
   "source": [
    "# make a registered version of dapi image\n",
    "from skimage.transform import rescale\n",
    "valid_chambers = ['chamber_07', 'chamber_08', 'chamber_09', 'chamber_10']\n",
    "dapi_reg = np.zeros_like(registered)\n",
    "for iroi, (chamber, roi) in enumerate(roi_list):\n",
    "    data_path = f\"{project}/{mouse}/{chamber}\"\n",
    "    manual_folder = issp.io.get_processed_path(data_path) / 'manual_starter_click'\n",
    "\n",
    "    fname_ds = manual_folder / f\"{mouse}_{chamber}_{roi}_reference_ds.tif\"\n",
    "    reference = tifffile.imread(fname_ds)\n",
    "    scale_diff = 100/factor\n",
    "\n",
    "    reference = rescale(reference, scale_diff)\n",
    "\n",
    "    reference = reference[:small_shape[0], :small_shape[1]]\n",
    "    # 0-pad if necessary\n",
    "    if reference.shape[0] < small_shape[0]:\n",
    "        reference = np.pad(reference, ((0, small_shape[0]-reference.shape[0]), (0,0)))\n",
    "    if reference.shape[1] < small_shape[1]:\n",
    "        reference = np.pad(reference, ((0,0), (0, small_shape[1]-reference.shape[1])))\n",
    "    if (chamber, roi) in to_flip:\n",
    "        reference = reference[::-1]\n",
    "    dapi_reg[iroi]  = transform_image(reference, scale=1, angle=transform_params[iroi,0], shift=transform_params[iroi,1:])"
   ]
  },
  {
   "cell_type": "code",
   "execution_count": null,
   "metadata": {},
   "outputs": [],
   "source": [
    "iroi = 20\n",
    "plt.imshow(dapi_reg[iroi].T, origin='lower', alpha=0.5, cmap='Greens')\n",
    "plt.imshow(registered[iroi].T, origin='lower', alpha=0.5, cmap='Purples')\n"
   ]
  },
  {
   "cell_type": "markdown",
   "metadata": {},
   "source": [
    "# Apply full tform on barcode spots"
   ]
  },
  {
   "cell_type": "code",
   "execution_count": null,
   "metadata": {},
   "outputs": [],
   "source": [
    "min_n_rol = 5\n",
    "min_n_presy = 5\n",
    "\n",
    "# Load rabies data\n",
    "\n",
    "error_correction_ds_name=\"BRAC8498.3e_error_corrected_barcodes_10\"\n",
    "rab_df, rab_cells_barcodes, rab_cells_properties = issa.segment.get_barcode_in_cells(\n",
    "    project, mouse, error_correction_ds_name, valid_chambers=None, save_folder=None, verbose=False\n",
    ")\n",
    "starters_positions = issa.io.get_starter_cells(project, mouse, verbose=False)\n",
    "rabies_cell_properties = issa.segment.match_starter_to_barcodes(project, mouse, rab_cells_properties, rab_df, starters=starters_positions, redo=False, verbose=False)\n",
    "starter_properties = rab_cells_properties[rab_cells_properties['starter']]\n",
    "starter_barcodes = rab_cells_barcodes.loc[starter_properties.index]\n",
    "print(f\"Clicked {len(starter_properties)} starter cells\")\n",
    "\n",
    "# filter starter with not enough rolonies\n",
    "starter_properties = starter_properties[starter_properties.max_n_spots > min_n_rol].copy()\n",
    "starter_barcodes = starter_barcodes.loc[starter_properties.index].copy()\n",
    "print(f\"Kept {len(starter_properties)} starter cells with > {min_n_rol} rolonies\")\n",
    "\n",
    "# filter barcodes with multiple starters\n",
    "n_starter_per_barcode = (starter_barcodes.values > 0).sum(axis=0)\n",
    "valid_barcodes = starter_barcodes.columns[n_starter_per_barcode == 1]\n",
    "n_cell_per_barcode = (rab_cells_barcodes > 0).sum(axis=0)\n",
    "example_barcodes = valid_barcodes[(n_cell_per_barcode.loc[valid_barcodes] > min_n_presy)]\n",
    "print(f\"Found {len(example_barcodes)} example barcodes with at least {min_n_presy} presynaptic cells\")\n"
   ]
  },
  {
   "cell_type": "code",
   "execution_count": null,
   "metadata": {},
   "outputs": [],
   "source": [
    "example_starters_barcodes = starter_barcodes[starter_barcodes[example_barcodes].any(axis=1)]\n",
    "example_starters_properties = rab_cells_properties.loc[example_starters_barcodes.index]\n",
    "example_starters_barcodes.head()"
   ]
  },
  {
   "cell_type": "code",
   "execution_count": null,
   "metadata": {},
   "outputs": [],
   "source": [
    "\n",
    "rab_cells_properties['x_reg'] = np.nan\n",
    "rab_cells_properties['y_reg'] = np.nan\n",
    "rab_df['x_reg'] = np.nan\n",
    "rab_df['y_reg'] = np.nan\n",
    "\n",
    "def flip_spot(spots, shape):\n",
    "    spots[:,1]= shape[0] - spots[:,1]\n",
    "    return spots\n",
    "\n",
    "for iroi, (c, r) in enumerate(roi_list):\n",
    "    df = rab_df[(rab_df.chamber==c) & (rab_df.roi==r)]\n",
    "    params = transform_params[iroi]\n",
    "    data_path = f\"{project}/{mouse}/{c}\"\n",
    "    #tile_corners = issp.pipeline.stitch.get_tile_corners(data_path, 'hybridisation_round_2_1', r)\n",
    "    shape = big_shape #tile_corners.max(axis=(0,1,3)).astype(int)\n",
    "    sp = df.loc[:, ['x', 'y']].values\n",
    "    if (c, r) in to_flip:\n",
    "        sp = flip_spot(sp, shape)\n",
    "    # make into homogeneous coordinates\n",
    "    spots_tform = make_transform(s=1, angle=params[0], shift=(params[1:]* factor), shape=shape)\n",
    "    transformed_coors = spots_tform @ np.pad(sp, [(0,0), (0, 1)], mode='constant', constant_values=1).T\n",
    "    rab_df.loc[df.index, 'x_reg'] = [x for x in transformed_coors[0, :]]\n",
    "    rab_df.loc[df.index, 'y_reg'] = [y for y in transformed_coors[1, :]]\n",
    "\n",
    "    # same for cell centroids\n",
    "    centr_df = rab_cells_properties[(rab_cells_properties.chamber == c) & (rab_cells_properties.roi == r)]\n",
    "    centr = centr_df[['x', 'y']].values\n",
    "    if (c, r) in to_flip:\n",
    "        centr = flip_spot(centr, shape)\n",
    "    transformed_coors = spots_tform @ np.pad(centr, [(0,0), (0,1)], mode='constant', constant_values=1).T\n",
    "    \n",
    "    rab_cells_properties.loc[centr_df.index, 'x_reg'] = [x for x in transformed_coors[0, :]]\n",
    "    rab_cells_properties.loc[centr_df.index, 'y_reg'] = [x for x in transformed_coors[1, :]]\n"
   ]
  },
  {
   "cell_type": "code",
   "execution_count": null,
   "metadata": {},
   "outputs": [],
   "source": [
    "import matplotlib\n",
    "matplotlib.rcParams['pdf.fonttype'] = 42 "
   ]
  },
  {
   "cell_type": "code",
   "execution_count": null,
   "metadata": {},
   "outputs": [],
   "source": [
    "# overlay version\n",
    "import matplotlib.cm as cm\n",
    "add_brain=True\n",
    "\n",
    "bad = [('chamber_09', 2)]\n",
    "\n",
    "rab_df_part = rab_df# [~((rab_df.chamber == bad[0][0]) & (rab_df.roi == bad[0][1]))]\n",
    "\n",
    "\n",
    "fig = plt.figure(figsize=(20,14))\n",
    "ax = plt.subplot(111, aspect='equal')\n",
    "ax.set_facecolor('k')\n",
    "\n",
    "# plot background spots of that roi\n",
    "# plt.imshow(registered.sum(axis=0))\n",
    "if add_brain:\n",
    "    #plt.imshow(registered[:20].sum(axis=0).T, cmap='gray', origin='lower')\n",
    "    plt.imshow(dapi_reg.sum(axis=0).T, cmap='gray', origin='lower', alpha=0.5)\n",
    "    # plt.imshow(dapi_reg[15].T, cmap='gray', origin='lower', alpha=0.5)\n",
    "\n",
    "bg = rab_df_part[(rab_df_part.cell_mask != -1)] # (rab_df.chamber == st_c) & (rab_df.roi == st_r) & \n",
    "plt.scatter(bg.y_reg/factor, bg.x_reg/factor, color='k' if add_brain else 'w', alpha=0.03, marker='.', s=1)\n",
    "    \n",
    "colors = [ 'deepskyblue',  'red', 'gold','mediumorchid']\n",
    "example_cells = ['chamber_07_9_30230', 'chamber_08_8_15913', 'chamber_08_9_10303', 'chamber_08_6_12087']\n",
    "for ist, starter in enumerate( example_cells):#, ]]):chamber_08_8_18063\n",
    "    bc = starter_barcodes.columns[starter_barcodes.loc[starter].argmax()]\n",
    "    print(f\"Starter cell {starter} with barcode {bc} in roi {rab_cells_properties.loc[starter].roi} or chamber {rab_cells_properties.loc[starter].chamber}\")\n",
    "    st = rab_cells_properties.loc[starter]\n",
    "    st_c, st_r = st.chamber, st.roi\n",
    "    fg = rab_df_part[(rab_df_part.corrected_bases == bc) & (rab_df_part.cell_mask != -1)]\n",
    "    plt.scatter(fg.y_reg/factor, fg.x_reg/factor, s=5, color=colors[ist], alpha=1)\n",
    "    fg = rab_df_part[(rab_df_part.corrected_bases == bc) & (rab_df_part.cell_mask == -1)]\n",
    "    plt.scatter(fg.y_reg/factor, fg.x_reg/factor, s=1, color=colors[ist], alpha=0.3)\n",
    "    plt.scatter(st.y_reg/factor, st.x_reg/factor, s=200, label=bc, \n",
    "                color=colors[ist], edgecolors='white', linewidths=1, marker='*', zorder=100)\n",
    "\n",
    "\n",
    "plt.legend(loc='upper left', ncols=2)\n",
    "#ax.set_xticks([])\n",
    "#ax.set_yticks([])\n",
    "px_size = issp.io.get_pixel_size(data_path=f\"{project}/{mouse}/{c}\")\n",
    "rect= plt.Rectangle((500,5), 500/px_size/factor, 10, edgecolor='none', facecolor='w', linewidth=2)\n",
    "ax.add_patch(rect)\n",
    "fname = 'rabies_overlay.pdf' if not add_brain else 'rabies_overlay_with_brain.pdf'\n",
    "target  = issp.io.get_processed_path(f\"{project}/{mouse}\") / 'analysis' / fname\n",
    "ax.set_ylim([0,430])\n",
    "ax.set_xlim([50,650])\n",
    "print(target)\n",
    "fig.savefig(target, bbox_inches='tight', dpi=300)\n",
    "fig.savefig(target.with_suffix('.png'), bbox_inches='tight', dpi=300)\n",
    "fig.savefig(target.with_suffix('.svg'), bbox_inches='tight', dpi=300)"
   ]
  },
  {
   "cell_type": "markdown",
   "metadata": {},
   "source": [
    "# Quantification"
   ]
  },
  {
   "cell_type": "code",
   "execution_count": null,
   "metadata": {},
   "outputs": [],
   "source": [
    "# make 3d spots\n",
    "slice_thickness = 20\n",
    "roi_names = list(sorted([f\"{c}_{r:02d}\" for c, r in roi_list]))\n",
    "z_roi = {}\n",
    "rab_df['z_reg_um'] = np.nan\n",
    "for (c, r), df in rab_df.groupby(['chamber', 'roi']):\n",
    "    roi_name = f\"{c}_{r:02d}\"\n",
    "    z = roi_names.index(roi_name) * slice_thickness\n",
    "    rab_df.loc[df.index, 'z_reg_um'] = z\n",
    "    z_roi[roi_name] = z\n",
    "\n",
    "# same for starter\n",
    "rab_cells_properties['z_reg_um'] = np.nan\n",
    "for (c, r), df in rab_cells_properties.groupby(['chamber', 'roi']):\n",
    "    roi_name = f\"{c}_{r:02d}\"\n",
    "    z = roi_names.index(roi_name) * slice_thickness\n",
    "    rab_cells_properties.loc[df.index, 'z_reg_um'] = z\n",
    "\n",
    "rab_df['x_reg_um'] = rab_df['x_reg'] * px_size\n",
    "rab_df['y_reg_um'] = rab_df['y_reg'] * px_size\n",
    "rab_cells_properties['x_reg_um'] = rab_cells_properties['x_reg'] * px_size\n",
    "rab_cells_properties['y_reg_um'] = rab_cells_properties['y_reg'] * px_size\n",
    "\n",
    "# save to csv the x,y,z coordinates and barcode identity and mask\n",
    "target_folder = issp.io.get_processed_path(f\"{project}/{mouse}\") / 'analysis' / 'registered_rabies'\n",
    "target_folder.mkdir(exist_ok=True)\n",
    "rab_df[['x_reg_um', 'y_reg_um', 'z_reg_um', 'corrected_bases', 'cell_mask']].to_csv(target_folder / 'rabies_spots.csv')\n",
    "# same for starters\n",
    "rab_cells_properties[['x_reg_um', 'y_reg_um', 'z_reg_um', 'main_barcode', 'max_n_spots','starter', 'n_unique_barcodes']].to_csv(target_folder / 'rabies_cells.csv')"
   ]
  },
  {
   "cell_type": "code",
   "execution_count": null,
   "metadata": {},
   "outputs": [],
   "source": [
    "rab_cells_properties"
   ]
  },
  {
   "cell_type": "code",
   "execution_count": null,
   "metadata": {},
   "outputs": [],
   "source": [
    "distances, distances_same_z = [], []\n",
    "for starter in starter_properties.index:\n",
    "    prop = rab_cells_properties.loc[starter]\n",
    "    starter_coords = prop[['x_reg_um', 'y_reg_um', 'z_reg_um']].values.astype(float)\n",
    "\n",
    "    barcode = prop.main_barcode\n",
    "    presynaptic = rab_cells_barcodes[rab_cells_barcodes[barcode] > 5]\n",
    "    presynaptic = presynaptic.drop(starter)\n",
    "    presynaptic_coords = rab_cells_properties.loc[presynaptic.index, ['x_reg_um', 'y_reg_um', 'z_reg_um']].values.astype(float)\n",
    "    \n",
    "    same_z = presynaptic_coords[:,2] == starter_coords[2]\n",
    "    distances_same_z.append(np.linalg.norm(starter_coords - presynaptic_coords[same_z], axis=1))\n",
    "    distances.append(np.linalg.norm(starter_coords - presynaptic_coords, axis=1))\n"
   ]
  },
  {
   "cell_type": "code",
   "execution_count": null,
   "metadata": {},
   "outputs": [],
   "source": [
    "fig = plt.figure(figsize=(6,3))\n",
    "fig.suptitle(f\"{len(distances)} starter cells, {len(np.hstack(distances))} connections cell\")\n",
    "# _ = plt.hist(np.hstack(distances_same_z), bins =np.arange(0, 5000, 30), histtype='step', label='Same slice', density=True)\n",
    "plt.subplot(121)\n",
    "_ = plt.hist(np.hstack(distances), bins =np.arange(0, 5000, 50),  label='All slices', density=False)\n",
    "\n",
    "plt.xlim([0, 5000])\n",
    "plt.xlabel('Distance to starter (um)')\n",
    "plt.ylabel('# of presynaptic cells')\n",
    "\n",
    "\n",
    "ax= plt.subplot(122)\n",
    "\n",
    "n_per = [len(d) for d in distances]\n",
    "h, e =np.histogram(n_per, bins=np.arange(0,130,5))\n",
    "ax.bar(e[:-1], h/h.sum(), width=5)\n",
    "plt.xlabel('# of presynaptic cells')\n",
    "plt.ylabel('Proportion of starter cells')\n",
    "\n",
    "fig.tight_layout()\n",
    "fig.savefig(target_folder / 'distance_distribution.pdf', bbox_inches='tight', dpi=300)\n",
    "fig.savefig(target_folder / 'distance_distribution.png', bbox_inches='tight', dpi=300)"
   ]
  },
  {
   "cell_type": "code",
   "execution_count": null,
   "metadata": {},
   "outputs": [],
   "source": [
    "valid_starter = starter_properties[starter_properties.main_barcode.isin(valid_barcodes)].index\n",
    "distances, distances_same_z = [], []\n",
    "for starter in valid_starter:\n",
    "    prop = rab_cells_properties.loc[starter]\n",
    "    starter_coords = prop[['x_reg_um', 'y_reg_um', 'z_reg_um']].values.astype(float)\n",
    "\n",
    "    barcode = prop.main_barcode\n",
    "    presynaptic = rab_cells_barcodes[rab_cells_barcodes[barcode] > 5]\n",
    "    presynaptic = presynaptic.drop(starter)\n",
    "    presynaptic_coords = rab_cells_properties.loc[presynaptic.index, ['x_reg_um', 'y_reg_um', 'z_reg_um']].values.astype(float)\n",
    "    \n",
    "    same_z = presynaptic_coords[:,2] == starter_coords[2]\n",
    "    distances_same_z.append(np.linalg.norm(starter_coords - presynaptic_coords[same_z], axis=1))\n",
    "    distances.append(np.linalg.norm(starter_coords - presynaptic_coords, axis=1))\n",
    "fig = plt.figure(figsize=(6,3))\n",
    "fig.suptitle(f\"{len(distances)} starter cells, {len(np.hstack(distances))} connections cell\")\n",
    "# _ = plt.hist(np.hstack(distances_same_z), bins =np.arange(0, 5000, 30), histtype='step', label='Same slice', density=True)\n",
    "plt.subplot(121)\n",
    "_ = plt.hist(np.hstack(distances), bins =np.arange(0, 5000, 100),  label='All slices', density=False)\n",
    "\n",
    "plt.xlim([0, 5000])\n",
    "plt.xlabel('Distance to starter (um)')\n",
    "plt.ylabel('# of presynaptic cells')\n",
    "\n",
    "\n",
    "ax= plt.subplot(122)\n",
    "\n",
    "n_per = [len(d) for d in distances]\n",
    "h, e =np.histogram(n_per, bins=np.arange(0,130,5))\n",
    "ax.bar(e[:-1], h/h.sum(), width=5)\n",
    "plt.xlabel('# of presynaptic cells')\n",
    "plt.ylabel('Proportion of starter cells')\n",
    "\n",
    "fig.tight_layout()\n",
    "fig.savefig(target_folder / 'distance_distribution.pdf', bbox_inches='tight', dpi=300)\n",
    "fig.savefig(target_folder / 'distance_distribution.png', bbox_inches='tight', dpi=300)"
   ]
  },
  {
   "cell_type": "code",
   "execution_count": null,
   "metadata": {},
   "outputs": [],
   "source": [
    "starter_properties.main_barcode.isin(valid_barcodes)"
   ]
  },
  {
   "cell_type": "code",
   "execution_count": null,
   "metadata": {},
   "outputs": [],
   "source": [
    "np.mean(n_per)"
   ]
  },
  {
   "cell_type": "code",
   "execution_count": null,
   "metadata": {},
   "outputs": [],
   "source": []
  }
 ],
 "metadata": {
  "kernelspec": {
   "language": "python"
  },
  "language_info": {
   "codemirror_mode": {
    "name": "ipython",
    "version": 3
   },
   "file_extension": ".py",
   "mimetype": "text/x-python",
   "name": "python",
   "nbconvert_exporter": "python",
   "pygments_lexer": "ipython3"
  }
 },
 "nbformat": 4,
 "nbformat_minor": 2
}
