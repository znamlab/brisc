{
 "cells": [
  {
   "cell_type": "code",
   "execution_count": null,
   "metadata": {},
   "outputs": [],
   "source": [
    "import pandas as pd"
   ]
  },
  {
   "cell_type": "code",
   "execution_count": null,
   "metadata": {},
   "outputs": [],
   "source": [
    "data = pd.read_pickle(\"/Users/znamenp/data/cell_barcode_df.pkl\")\n",
    "# filter out rows where all_barcodes is NaN\n",
    "data = data.dropna(subset=[\"all_barcodes\"])"
   ]
  },
  {
   "cell_type": "code",
   "execution_count": null,
   "metadata": {},
   "outputs": [],
   "source": [
    "data = pd.read_pickle(\n",
    "    \"/nemo/project/proj-znamenp-barseq/processed/becalia_rabies_barseq/BRAC8498.3e/analysis/cell_barcode_df.pkl\"\n",
    ")\n",
    "data = data.dropna(subset=[\"all_barcodes\"])"
   ]
  },
  {
   "cell_type": "code",
   "execution_count": null,
   "metadata": {},
   "outputs": [],
   "source": [
    "data[data[\"is_starter\"] == True][\"all_barcodes\"]\n",
    "\n",
    "# contatenate all barcodes into a big list\n",
    "all_barcodes = []\n",
    "for barcodes in data[data[\"is_starter\"] == True][\"all_barcodes\"]:\n",
    "    all_barcodes.extend(barcodes)\n",
    "\n",
    "# count the number of times each barcode appears among starter cells\n",
    "barcode_counts = pd.Series(all_barcodes).value_counts()\n",
    "# barcodes which only appear once\n",
    "singletons = barcode_counts.index[barcode_counts == 1]\n",
    "singletons = set(singletons.values)"
   ]
  },
  {
   "cell_type": "code",
   "execution_count": null,
   "metadata": {},
   "outputs": [],
   "source": [
    "# select \"all_barcodes\" which are in signletons and assign to a new column\n",
    "data[\"unique_barcodes\"] = data[\"all_barcodes\"].apply(\n",
    "    lambda x: singletons.intersection(x)\n",
    ")"
   ]
  },
  {
   "cell_type": "code",
   "execution_count": null,
   "metadata": {},
   "outputs": [],
   "source": [
    "import numpy as np\n",
    "import matplotlib.pyplot as plt\n",
    "\n",
    "data[data[\"is_starter\"] == True].apply(\n",
    "    lambda x: len(x[\"unique_barcodes\"]), axis=1\n",
    ").value_counts()\n",
    "\n",
    "# plot the distribution of the number of unique barcodes per starter cell\n",
    "data[data[\"is_starter\"] == True].apply(lambda x: len(x[\"all_barcodes\"]), axis=1).hist(\n",
    "    bins=np.arange(0, 5, 1) - 0.5, alpha=0.5\n",
    ")\n",
    "data[data[\"is_starter\"] == True].apply(\n",
    "    lambda x: len(x[\"unique_barcodes\"]), axis=1\n",
    ").hist(bins=np.arange(0, 5, 1) - 0.5, alpha=0.5)\n",
    "\n",
    "plt.legend([\"All barcodes\", \"Unique barcodes\"])\n",
    "# turn off the grid\n",
    "import matplotlib.pyplot as plt\n",
    "\n",
    "plt.grid(False)\n",
    "# skip non-integer ticks\n",
    "plt.xticks(np.arange(0, 5, 1))\n",
    "plt.xlabel(\"Number of barcodes per starter cell\")\n",
    "plt.ylabel(\"Number of cells\")"
   ]
  },
  {
   "cell_type": "code",
   "execution_count": null,
   "metadata": {},
   "outputs": [],
   "source": [
    "# sets of unique barcodes with more than one element\n",
    "doublets = (\n",
    "    data[data[\"is_starter\"] == True]\n",
    "    .apply(\n",
    "        lambda x: x[\"unique_barcodes\"] if len(x[\"unique_barcodes\"]) == 2 else None,\n",
    "        axis=1,\n",
    "    )\n",
    "    .dropna()\n",
    "    .values\n",
    ")"
   ]
  },
  {
   "cell_type": "code",
   "execution_count": null,
   "metadata": {},
   "outputs": [],
   "source": [
    "doublets"
   ]
  },
  {
   "cell_type": "code",
   "execution_count": null,
   "metadata": {},
   "outputs": [],
   "source": [
    "bc_counts = []\n",
    "\n",
    "for doublet in doublets:\n",
    "    print(doublet)\n",
    "    bc1, bc2 = doublet\n",
    "    nbc1 = data.apply(lambda x: bc1 in x[\"unique_barcodes\"], axis=1).sum()\n",
    "    nbc2 = data.apply(lambda x: bc2 in x[\"unique_barcodes\"], axis=1).sum()\n",
    "    nboth = data.apply(\n",
    "        lambda x: bc1 in x[\"unique_barcodes\"] and bc2 in x[\"unique_barcodes\"], axis=1\n",
    "    ).sum()\n",
    "    nany = data.apply(\n",
    "        lambda x: bc1 in x[\"unique_barcodes\"] or bc2 in x[\"unique_barcodes\"], axis=1\n",
    "    ).sum()\n",
    "    print(nbc1, nbc2, nboth, nany)\n",
    "    bc_counts.append([nbc1 - 1, nbc2 - 1, nboth - 1, nany - 1])"
   ]
  },
  {
   "cell_type": "code",
   "execution_count": null,
   "metadata": {},
   "outputs": [],
   "source": [
    "np.array(bc_counts)[:, 0]"
   ]
  },
  {
   "cell_type": "code",
   "execution_count": null,
   "metadata": {},
   "outputs": [],
   "source": [
    "plt.loglog(1 + np.array(bc_counts)[:, 0], 1 + np.array(bc_counts)[:, 1], \"o\")\n",
    "plt.xlabel(\"Number of cells with barcode 1\")\n",
    "plt.ylabel(\"Number of cells with barcode 2\")"
   ]
  },
  {
   "cell_type": "code",
   "execution_count": null,
   "metadata": {},
   "outputs": [],
   "source": [
    "bc_counts = np.array(bc_counts)\n",
    "\n",
    "plt.hist(bc_counts[:, 2] / bc_counts[:, 3])\n",
    "plt.xlabel(\"Proportion of presynaptic cells with both barcodes\")"
   ]
  }
 ],
 "metadata": {
  "kernelspec": {
   "language": "python"
  },
  "language_info": {
   "codemirror_mode": {
    "name": "ipython",
    "version": 3
   },
   "file_extension": ".py",
   "mimetype": "text/x-python",
   "name": "python",
   "nbconvert_exporter": "python",
   "pygments_lexer": "ipython3"
  }
 },
 "nbformat": 4,
 "nbformat_minor": 2
}
