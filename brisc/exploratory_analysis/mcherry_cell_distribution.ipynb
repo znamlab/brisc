{
 "cells": [
  {
   "cell_type": "code",
   "execution_count": null,
   "id": "a47ebc7e",
   "metadata": {},
   "outputs": [],
   "source": [
    "%load_ext autoreload\n",
    "%autoreload 2\n"
   ]
  },
  {
   "cell_type": "code",
   "execution_count": null,
   "id": "c9982e86",
   "metadata": {},
   "outputs": [],
   "source": [
    "from iss_analysis.io import get_mcherry_cells\n",
    "\n",
    "project = 'becalia_rabies_barseq'\n",
    "mouse = 'BRAC8498.3e'\n",
    "\n",
    "# Get the good mCherry cells, i.e. the one for which we have masks and we match the \n",
    "# starters\n",
    "mcherry_curated = get_mcherry_cells(\n",
    "    project, mouse, verbose=True, which=\"curated\", prefix=\"mCherry_1\"\n",
    ")\n",
    "# For chamber6, detection fails because of high background, use the manual click instead\n",
    "mcherry_manual =  get_mcherry_cells(\n",
    "    project, mouse, verbose=True, which=\"manual\", prefix=\"mCherry_1\"\n",
    ")\n",
    "\n",
    "m6 = mcherry_manual.query(\"chamber == 'chamber_06'\")\n",
    "n6 = len(m6)\n",
    "total = len(mcherry_curated) + n6\n",
    "\n",
    "print(f\"{n6} cells in chamber 6 out of {total}, that's {n6/total*100:.2f}%\")"
   ]
  },
  {
   "cell_type": "code",
   "execution_count": null,
   "id": "2a736ac0",
   "metadata": {},
   "outputs": [],
   "source": [
    "import matplotlib.pyplot as plt\n",
    "\n",
    "# Plot manual for chamber 6\n",
    "m6 = mcherry_manual.query(\"chamber == 'chamber_06'\")\n",
    "m6 = m6.groupby('roi').aggregate(len).x\n",
    "plt.plot(m6.index.astype(int)-10, m6.values, 'o-')\n",
    "\n",
    "# Plot curated for the other\n",
    "n=10\n",
    "for c in ['07','08','09','10']:\n",
    "    df = mcherry_curated.query(f\"chamber == 'chamber_{c}'\")\n",
    "    d = df.groupby('roi').aggregate(len).x\n",
    "    plt.plot(d.index + n, d.values, 'o-')\n",
    "    n += d.index.max()\n",
    "\n",
    "plt.xlabel('Slice index')\n",
    "plt.ylabel('# of mcherry cells')"
   ]
  },
  {
   "cell_type": "code",
   "execution_count": null,
   "id": "7d9cb791",
   "metadata": {},
   "outputs": [],
   "source": [
    "# Add the starter position\n",
    "from iss_analysis.io import get_starter_cells, get_sections_info\n",
    "import pandas as pd\n",
    "import numpy as np\n",
    "\n",
    "sec_inf = get_sections_info(project, mouse, chamber=None)\n",
    "starters_positions = get_starter_cells(project, mouse)\n",
    "\n",
    "fig, ax = plt.subplots(1,1, figsize=(4,3))\n",
    "axt = ax.twinx()\n",
    "ax.plot((m6.index.astype(int)-10)*20, m6.values, 'o-', color='grey')\n",
    "n = 10\n",
    "\n",
    "for c in ['07','08','09','10']:\n",
    "    df = mcherry_curated.query(f\"chamber == 'chamber_{c}'\")\n",
    "    d = df.groupby('roi').aggregate(len).x\n",
    "    ax.plot((d.index + n)*20, d.values, 'o-', color='darkred', label='mCherry cells' if c=='10' else '__no_label__')\n",
    "    sdf = starters_positions.query(f\"chamber == 'chamber_{c}'\")\n",
    "    if len(sdf):\n",
    "        sd = sdf.groupby('roi').aggregate(len).y\n",
    "        axt.plot((sd.index + n)*20, sd.values, 's-', color='dodgerblue', label='Starter cells' if c=='10' else '__no_label__') \n",
    "    n += d.index.max()\n",
    "axt.set_ylabel('# of starter cells', color='dodgerblue')\n",
    "ax.set_yticks(np.arange(0,201,50))\n",
    "ax.set_yticklabels(np.arange(0,201,50), color='darkred')\n",
    "ax.set_ylim(0, 200)\n",
    "axt.set_yticks(np.arange(0, 81, 20))\n",
    "axt.set_yticklabels(np.arange(0, 81, 20), color='dodgerblue')\n",
    "axt.set_ylim(0, 80)\n",
    "ax.set_xlabel(r'Slice A/P position ($\\mu m$)')\n",
    "ax.set_ylabel('# of mCherry cells', color='darkred')\n",
    "fig.tight_layout()"
   ]
  },
  {
   "cell_type": "code",
   "execution_count": null,
   "id": "6070b24c",
   "metadata": {},
   "outputs": [],
   "source": []
  }
 ],
 "metadata": {
  "kernelspec": {
   "language": "python"
  },
  "language_info": {
   "codemirror_mode": {
    "name": "ipython",
    "version": 3
   },
   "file_extension": ".py",
   "mimetype": "text/x-python",
   "name": "python",
   "nbconvert_exporter": "python",
   "pygments_lexer": "ipython3"
  }
 },
 "nbformat": 4,
 "nbformat_minor": 5
}
