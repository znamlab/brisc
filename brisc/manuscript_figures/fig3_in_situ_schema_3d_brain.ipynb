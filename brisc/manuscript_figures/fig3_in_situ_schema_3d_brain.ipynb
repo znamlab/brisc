{
 "cells": [
  {
   "cell_type": "code",
   "execution_count": null,
   "metadata": {},
   "outputs": [],
   "source": [
    "%load_ext autoreload\n",
    "%autoreload 2"
   ]
  },
  {
   "cell_type": "code",
   "execution_count": null,
   "metadata": {},
   "outputs": [],
   "source": [
    "from brisc.manuscript_analysis import brainrender_3d as br3d\n",
    "from brisc.manuscript_analysis import overview_image\n",
    "\n",
    "import matplotlib.pyplot as plt\n",
    "from pathlib import Path\n",
    "import matplotlib\n",
    "\n",
    "matplotlib.rcParams[\"pdf.fonttype\"] = 42  # for pdfs\n",
    "\n",
    "import flexiznam as flz"
   ]
  },
  {
   "cell_type": "code",
   "execution_count": null,
   "metadata": {},
   "outputs": [],
   "source": [
    "# Placeholder\n",
    "# TODO: setup flexilims project\n",
    "project = \"barcode_diversity_analysis\"\n",
    "flexilims_session = flz.get_flexilims_session(project)\n",
    "READ_ROOT = (\n",
    "    flz.get_data_root(\"processed\", flexilims_session=flexilims_session)\n",
    "    / \"rabies_manuscript_figures\"\n",
    ")\n",
    "SAVE_ROOT = (\n",
    "    flz.get_data_root(\"processed\", flexilims_session=flexilims_session)\n",
    "    / \"rabies_manuscript_figures\"\n",
    ")\n",
    "SAVE_ROOT.mkdir(parents=True, exist_ok=True)\n",
    "reload = False"
   ]
  },
  {
   "cell_type": "code",
   "execution_count": null,
   "metadata": {},
   "outputs": [],
   "source": [
    "# stack_part = overview_image.load_rv_bc_rounds(\n",
    "#     data_path=\"becalia_rabies_barseq/BRAC8498.3e/chamber_07\"\n",
    "# )\n",
    "from iss_preprocess.pipeline.sequencing import basecall_tile\n",
    "\n",
    "stack, _, _ = basecall_tile(\n",
    "    \"becalia_rabies_barseq/BRAC8498.3e/chamber_07\", (5, 2, 7), save_spots=False\n",
    ")"
   ]
  },
  {
   "cell_type": "code",
   "execution_count": null,
   "metadata": {},
   "outputs": [],
   "source": [
    "stack.shape"
   ]
  },
  {
   "cell_type": "code",
   "execution_count": null,
   "metadata": {},
   "outputs": [],
   "source": [
    "DATA_ROOT = Path(\"Z:/home/shared/projects\")\n",
    "DATA_BRISC = Path(\"Y:/\")"
   ]
  },
  {
   "cell_type": "code",
   "execution_count": null,
   "metadata": {},
   "outputs": [],
   "source": [
    "# Plot Fig.1\n",
    "fontsize_dict = {\"title\": 7, \"label\": 7, \"tick\": 5, \"legend\": 5}\n",
    "pad_dict = {\"label\": 1, \"tick\": 1, \"legend\": 5}\n",
    "line_width = 2\n",
    "line_alpha = 0.9\n",
    "\n",
    "cm = 1 / 2.54\n",
    "fig = plt.figure(figsize=(17.4 * cm, 17.4 * cm), dpi=150)\n",
    "data_path = DATA_ROOT / \"becalia_rabies_barseq/BRAC8498.3e/\"\n",
    "save_path = DATA_ROOT / \"barcode_diversity_analysis/figures/\"\n",
    "\n",
    "save_fig = False\n",
    "figname = \"fig3\"\n",
    "\n",
    "# 1 In situ seq cartoon\n",
    "# 2 chambers cartoon\n",
    "# 3 microscope cartoon\n",
    "# 4 3D see through brain with rabies imaging site + dorsal flatmap view\n",
    "\n",
    "\n",
    "ax_3D_brain = fig.add_axes(ax_locations[3])\n",
    "im = br3d.plot_brainrender_3d(\n",
    "    ax_3D_brain,\n",
    "    image_path=data_path / \"3D_brain.png\",\n",
    ")\n",
    "\n",
    "ax_rabies_brain = fig.add_axes(ax_locations[4])\n",
    "im = overview_image.plot_rabies_raw(\n",
    "    ax_rabies_brain,\n",
    "    DATA_BRISC / \"processed/becalia_rabies_barseq/BRAC8498.3e/chamber_10/figures/round_overviews/chamber_10_roi_03_barcode_round_1_1_channels_0_1_2_3.png\",\n",
    "    crop_top=0,\n",
    "    crop_bottom=650,\n",
    "    crop_left=150,\n",
    "    crop_right=50,\n",
    ")\n",
    "\n",
    "# Plot selected rounds in the new row\n",
    "axes = [fig.add_axes(loc) for loc in ax_locations[6:]]\n",
    "overview_image.plot_selected_rounds(\n",
    "    axes,\n",
    "    stack,\n",
    "    window=200,\n",
    "    selected_rounds=[1, 6, 10],\n",
    "    fontsize=fontsize_dict[\"label\"],\n",
    ")\n",
    "\n",
    "\n",
    "if save_fig:\n",
    "    pdf_path = f\"{save_path}/figures/{figname}.pdf\"\n",
    "    png_path = f\"{save_path}/figures/{figname}.png\"\n",
    "    fig.savefig(pdf_path, format=\"pdf\", transparent=True, bbox_inches=\"tight\")\n",
    "    fig.savefig(png_path, format=\"png\", transparent=True, bbox_inches=\"tight\")\n",
    "    print(f\"Saved PDF figure to {pdf_path}\")\n",
    "    print(f\"Saved PNG figure to {png_path}\")"
   ]
  },
  {
   "cell_type": "code",
   "execution_count": null,
   "metadata": {},
   "outputs": [],
   "source": [
    "import numpy as np\n",
    "plt.imshow(np.std(stack, axis=(2,3)))"
   ]
  },
  {
   "cell_type": "code",
   "execution_count": null,
   "metadata": {},
   "outputs": [],
   "source": [
    "np.max(stack[945:1195, 1975:2225, :, :], axis=(0,1,3))"
   ]
  },
  {
   "cell_type": "code",
   "execution_count": null,
   "metadata": {},
   "outputs": [],
   "source": [
    "fig, axes = plt.subplots(1, 4)\n",
    "overview_image.plot_selected_rounds(\n",
    "    axes,\n",
    "    stack[945:1195, 1975:2225, :, :],\n",
    "    selected_rounds=[1, 2, 9, 10],\n",
    "    fontsize=fontsize_dict[\"label\"],\n",
    "    vmin=np.array([0, 0, 0, 0]),\n",
    "    vmax=np.array([0.5, 0.5, 0.35, 0.35])\n",
    ")"
   ]
  },
  {
   "cell_type": "code",
   "execution_count": null,
   "metadata": {},
   "outputs": [],
   "source": [
    "fig = plt.figure(figsize=(17.4 * cm, 174 * cm), dpi=150)\n",
    "import matplotlib.image as mpimg\n",
    "rabies_img_path = DATA_BRISC / \"processed/becalia_rabies_barseq/BRAC8498.3e/chamber_10/figures/round_overviews/chamber_10_roi_03_barcode_round_1_1_channels_0_1_2_3.png\"\n",
    "\n",
    "img = mpimg.imread(rabies_img_path)\n",
    "\n",
    "ax_rabies_brain = fig.add_axes([0.05, 0.7, 0.35, 0.25])\n",
    "im = overview_image.plot_rabies_raw(\n",
    "    ax_rabies_brain,\n",
    "    img,\n",
    "    crop_top=0,\n",
    "    crop_bottom=650,\n",
    "    crop_left=150,\n",
    "    crop_right=50,\n",
    ")"
   ]
  },
  {
   "cell_type": "code",
   "execution_count": null,
   "metadata": {},
   "outputs": [],
   "source": [
    "images_path = DATA_ROOT / \"../presentations/becalick_2025\"\n",
    "\n",
    "from iss_preprocess.io import load_stack\n",
    "\n",
    "rabies_img = load_stack(images_path / \"chamber_10_roi_03_barcode_round_1_1_channels_0_1_2_3.ome.tif\")\n",
    "mcherry_img = load_stack(images_path / \"chamber_10_roi_03_mCherry_1_channels_0_1_2_3.ome.tif\")"
   ]
  },
  {
   "cell_type": "code",
   "execution_count": null,
   "metadata": {},
   "outputs": [],
   "source": [
    "genes_img = load_stack(images_path / \"chamber_10_roi_03_genes_round_1_1_channels_0_1_2_3.ome.tif\")\n",
    "hyb_img = load_stack(images_path / \"chamber_10_roi_03_hybridisation_round_1_1_channels_0_1_2_3.ome.tif\")"
   ]
  },
  {
   "cell_type": "code",
   "execution_count": null,
   "metadata": {},
   "outputs": [],
   "source": [
    "plt.imshow(rabies_img[10000:17000, 11000:17000, 0])"
   ]
  },
  {
   "cell_type": "code",
   "execution_count": null,
   "metadata": {},
   "outputs": [],
   "source": [
    "np.quantile(rabies_img[10000:15000, 11000:15000, :], 0.999, axis=(0,1))"
   ]
  },
  {
   "cell_type": "code",
   "execution_count": null,
   "metadata": {},
   "outputs": [],
   "source": [
    "from iss_preprocess.vis import to_rgb\n",
    "fig = plt.figure(figsize=(17.4 * cm, 174 * cm), dpi=150)\n",
    "\n",
    "ax_rabies = fig.add_axes([0.35, 0.07, 0.25, 0.25])\n",
    "channel_colors = ([1, 0, 0], [0, 1, 0], [1, 0, 1], [0, 1, 1])\n",
    "rabies_crop = rabies_img[12000:14000, 12500:14000, :]\n",
    "rgb_stack = to_rgb(\n",
    "    np.swapaxes(rabies_crop, 0, 1), \n",
    "    channel_colors,\n",
    "    vmin=np.quantile(rabies_crop, 0.9, axis=(0,1)),\n",
    "    vmax=np.quantile(rabies_crop, 0.999, axis=(0,1)),\n",
    ")\n",
    "plt.imshow(rgb_stack)\n",
    "ax_rabies.invert_yaxis()\n",
    "plt.axis(\"off\")\n",
    "\n",
    "mcherry_crop = mcherry_img[12000:14000, 12500:14000, :]\n",
    "ax_mcherry = fig.add_axes([0.05, 0.07, 0.25, 0.25])\n",
    "\n",
    "rgb_stack = to_rgb(\n",
    "    np.swapaxes(mcherry_crop, 0, 1), \n",
    "    ([0, 1, 0], [0, 1, 0], [1, 0, 0], [0, 1, 1]),\n",
    "    vmin=np.quantile(mcherry_crop, 0.8, axis=(0,1)),\n",
    "    vmax=np.array([1e4, 1e4, 300, 1e4]),\n",
    ")\n",
    "plt.imshow(rgb_stack)\n",
    "ax_mcherry.invert_yaxis()\n",
    "plt.axis(\"off\")\n",
    "\n",
    "\n",
    "genes_crop = genes_img[12000:14000, 12500:14000, :]\n",
    "ax_mcherry = fig.add_axes([0.65, 0.07, 0.25, 0.25])\n",
    "\n",
    "rgb_stack = to_rgb(\n",
    "    np.swapaxes(genes_crop, 0, 1), \n",
    "    channel_colors,\n",
    "    vmin=np.quantile(genes_crop, 0.9, axis=(0,1)),\n",
    "    vmax=np.quantile(genes_crop, 0.999, axis=(0,1)),\n",
    ")\n",
    "plt.imshow(rgb_stack)\n",
    "ax_mcherry.invert_yaxis()\n",
    "plt.axis(\"off\")"
   ]
  },
  {
   "cell_type": "code",
   "execution_count": null,
   "metadata": {},
   "outputs": [],
   "source": [
    "plt.figure(figsize=(15, 15))\n",
    "genes_crop = genes_img[8000:8400, 12500:12900, :]\n",
    "rgb_stack = to_rgb(\n",
    "    np.swapaxes(genes_crop, 0, 1), \n",
    "    channel_colors,\n",
    "    vmin=np.quantile(genes_crop, 0.9, axis=(0,1)),\n",
    "    vmax=np.quantile(genes_crop, 0.999, axis=(0,1)),\n",
    ")\n",
    "plt.imshow(rgb_stack)\n"
   ]
  },
  {
   "cell_type": "code",
   "execution_count": null,
   "metadata": {},
   "outputs": [],
   "source": [
    "from iss_preprocess.pipeline.stitch import load_tile_ref_coors\n",
    "tile_coors = (1, 2, 4)\n",
    "\n",
    "data_path = \"becalia_rabies_barseq/BRAC8498.3e/chamber_08\"\n",
    "stack, _ = load_tile_ref_coors(\n",
    "    data_path,\n",
    "    tile_coors,\n",
    "    \"barcode_round\",\n",
    "    filter_r=True,\n",
    "    projection=\"max\",\n",
    "    correct_illumination=True,\n",
    ")"
   ]
  },
  {
   "cell_type": "code",
   "execution_count": null,
   "metadata": {},
   "outputs": [],
   "source": [
    "stack_mcherry, _ = load_tile_ref_coors(\n",
    "    data_path,\n",
    "    tile_coors,\n",
    "    \"mCherry_1\",\n",
    "    filter_r=False,\n",
    "    projection=\"max\",\n",
    "    correct_illumination=True,\n",
    ")"
   ]
  },
  {
   "cell_type": "code",
   "execution_count": null,
   "metadata": {},
   "outputs": [],
   "source": [
    "stack_mcherry.shape"
   ]
  },
  {
   "cell_type": "code",
   "execution_count": null,
   "metadata": {},
   "outputs": [],
   "source": [
    "plt.figure(figsize=(15, 15))\n",
    "plt.subplot(1, 3, 1)\n",
    "stack_crop = stack[:, :, :, 0]\n",
    "rgb_stack = to_rgb(\n",
    "    stack_crop, \n",
    "    channel_colors,\n",
    "    vmin=np.quantile(stack_crop, 0.8, axis=(0,1)),\n",
    "    vmax=np.quantile(stack_crop, 0.9995, axis=(0,1)),\n",
    ")\n",
    "plt.imshow(rgb_stack)\n",
    "plt.axis(\"off\")\n",
    "\n",
    "plt.subplot(1, 3, 2)\n",
    "rgb_stack_mcherry = to_rgb(\n",
    "    stack_mcherry[:, :, :, 0], \n",
    "    ([0, 1, 0], [0, 1, 0], [1, 0, 0], [0, 1, 1]),\n",
    "    vmin=np.quantile(stack_mcherry[:, :, :, 0], 0.8, axis=(0,1)),\n",
    "    vmax=np.array([1e4, 1e4, 500, 1e4]),\n",
    ")\n",
    "plt.imshow(rgb_stack_mcherry)\n",
    "ax_mcherry.invert_yaxis()\n",
    "plt.axis(\"off\")"
   ]
  },
  {
   "cell_type": "code",
   "execution_count": null,
   "metadata": {},
   "outputs": [],
   "source": [
    "plt.figure(figsize=(15, 15))\n",
    "rgb_stack[:, :, 0] = rgb_stack_mcherry[:, :, 0]\n",
    "plt.imshow(rgb_stack)"
   ]
  },
  {
   "cell_type": "code",
   "execution_count": null,
   "metadata": {},
   "outputs": [],
   "source": [
    "stack.shape"
   ]
  },
  {
   "cell_type": "code",
   "execution_count": null,
   "metadata": {},
   "outputs": [],
   "source": [
    "stack_std = np.std(stack, axis=(2, 3))\n",
    "plt.figure(figsize=(15,15))\n",
    "plt.imshow(stack_std, vmin=np.quantile(stack_std, 0.9), vmax=np.quantile(stack_std, 0.999) )"
   ]
  }
 ],
 "metadata": {
  "kernelspec": {
   "display_name": "brisc",
   "language": "python",
   "name": "python3"
  },
  "language_info": {
   "codemirror_mode": {
    "name": "ipython",
    "version": 3
   },
   "file_extension": ".py",
   "mimetype": "text/x-python",
   "name": "python",
   "nbconvert_exporter": "python",
   "pygments_lexer": "ipython3",
   "version": "3.9.21"
  }
 },
 "nbformat": 4,
 "nbformat_minor": 2
}
