{
 "cells": [
  {
   "cell_type": "code",
   "execution_count": 1,
   "metadata": {},
   "outputs": [],
   "source": [
    "%load_ext autoreload\n",
    "%autoreload 2"
   ]
  },
  {
   "cell_type": "code",
   "execution_count": 2,
   "metadata": {},
   "outputs": [
    {
     "name": "stderr",
     "output_type": "stream",
     "text": [
      "c:\\Users\\znamenp\\AppData\\Local\\anaconda3\\envs\\brisc\\lib\\site-packages\\tqdm\\auto.py:21: TqdmWarning: IProgress not found. Please update jupyter and ipywidgets. See https://ipywidgets.readthedocs.io/en/stable/user_install.html\n",
      "  from .autonotebook import tqdm as notebook_tqdm\n"
     ]
    }
   ],
   "source": [
    "from brisc.manuscript_analysis import distance_between_cells as dist_cells\n",
    "from brisc.exploratory_analysis.plot_summary_for_all_bc import compute_flatmap_coors\n",
    "\n",
    "from pathlib import Path\n",
    "import pandas as pd\n",
    "import matplotlib.pyplot as plt\n",
    "import matplotlib\n",
    "import seaborn as sns\n",
    "\n",
    "from brisc.manuscript_analysis import distance_between_cells as dist_cells\n",
    "from brisc.manuscript_analysis import spatial_plots_rabies as spatial\n",
    "from brisc.manuscript_analysis import barcodes_in_cells as bc_cells\n",
    "from brisc.manuscript_analysis.load import load_cell_barcode_data\n",
    "matplotlib.rcParams[\"pdf.fonttype\"] = 42  # for pdfs"
   ]
  },
  {
   "cell_type": "code",
   "execution_count": 87,
   "metadata": {},
   "outputs": [
    {
     "name": "stdout",
     "output_type": "stream",
     "text": [
      "Found 253 points in ['fiber tracts', 'outside']\n",
      "Found 291 acceptable target areas\n"
     ]
    },
    {
     "name": "stderr",
     "output_type": "stream",
     "text": [
      "100%|██████████| 253/253 [00:00<00:00, 741.94it/s]\n"
     ]
    },
    {
     "name": "stdout",
     "output_type": "stream",
     "text": [
      "Moved 221/253 points\n",
      "Found 3 points in ['fiber tracts']\n",
      "Found 291 acceptable target areas\n"
     ]
    },
    {
     "name": "stderr",
     "output_type": "stream",
     "text": [
      "100%|██████████| 3/3 [00:00<00:00, 750.05it/s]\n"
     ]
    },
    {
     "name": "stdout",
     "output_type": "stream",
     "text": [
      "Moved 3/3 points\n"
     ]
    }
   ],
   "source": [
    "barseq_path=Path(\"Y:/\")\n",
    "main_path=Path(\"Z:/\")\n",
    "cells_df = load_cell_barcode_data(\n",
    "    barseq_path / \"processed/becalia_rabies_barseq/BRAC8498.3e/analysis/cell_barcode_genes_df.pkl\"\n",
    ")\n",
    "\n",
    "relative_presyn_coords, distances = dist_cells.determine_presynaptic_distances(cells_df)\n"
   ]
  },
  {
   "cell_type": "code",
   "execution_count": 88,
   "metadata": {},
   "outputs": [
    {
     "name": "stdout",
     "output_type": "stream",
     "text": [
      "Found 12 bad coordinates\n",
      "loading path information\n"
     ]
    },
    {
     "name": "stderr",
     "output_type": "stream",
     "text": [
      "100%|██████████| 8/8 [00:00<00:00, 15.34it/s]\n"
     ]
    },
    {
     "name": "stdout",
     "output_type": "stream",
     "text": [
      "loading path information\n"
     ]
    },
    {
     "name": "stderr",
     "output_type": "stream",
     "text": [
      "100%|██████████| 8/8 [00:00<00:00, 14.39it/s]\n"
     ]
    }
   ],
   "source": [
    "flat_coors = compute_flatmap_coors(cells_df)\n",
    "cells_df[\"flatmap_x\"] = flat_coors[:, 0]\n",
    "cells_df[\"flatmap_y\"] = flat_coors[:, 1]\n",
    "cells_df[\"flatmap_z\"] = flat_coors[:, 2]\n"
   ]
  },
  {
   "cell_type": "code",
   "execution_count": null,
   "metadata": {},
   "outputs": [],
   "source": [
    "cells_df.drop([\"gene_total_counts\", \"main_barcode\"], axis=1, inplace=True)\n",
    "\n",
    "def match_barcodes(series, barcodes):\n",
    "    return series.apply(lambda bcs: len(bcs.intersection(barcodes)) > 0)\n",
    "\n",
    "starters = cells_df[cells_df[\"is_starter\"] == True]\n",
    "presynaptic = cells_df[cells_df[\"is_starter\"] == False].copy()\n",
    "connectivity_matrix = presynaptic[\"unique_barcodes\"].apply(lambda bcs: match_barcodes(starters[\"unique_barcodes\"], bcs))\n",
    "presynaptic[\"starters\"] = connectivity_matrix.apply(lambda row: set(row.index[row]), axis=1)\n",
    "presynaptic[\"n_starters\"] = presynaptic[\"starters\"].apply(len)"
   ]
  },
  {
   "cell_type": "code",
   "execution_count": 90,
   "metadata": {},
   "outputs": [],
   "source": [
    "save_path = main_path / \"home/shared/transfer/for_alexk\"\n",
    "save_path.mkdir(exist_ok=True)\n",
    "\n",
    "with pd.ExcelWriter(save_path / 'brisc.xlsx') as writer:  \n",
    "    starters.to_excel(writer, sheet_name='Starters')\n",
    "    presynaptic.to_excel(writer, sheet_name='Presynaptic')\n",
    "\n"
   ]
  },
  {
   "cell_type": "code",
   "execution_count": 38,
   "metadata": {},
   "outputs": [],
   "source": [
    "multibarcoded_starters = bc_cells.analyze_multibarcoded_starters(cells_df)"
   ]
  },
  {
   "cell_type": "code",
   "execution_count": 40,
   "metadata": {},
   "outputs": [
    {
     "name": "stderr",
     "output_type": "stream",
     "text": [
      "100%|██████████| 20/20 [01:33<00:00,  4.66s/it]\n"
     ]
    }
   ],
   "source": [
    "all_shuffled_distances, all_starter_coords = (\n",
    "    dist_cells.create_barcode_shuffled_nulls_parallel(\n",
    "        cells_df, N_iter=20\n",
    "    )\n",
    ")"
   ]
  },
  {
   "cell_type": "code",
   "execution_count": 41,
   "metadata": {},
   "outputs": [
    {
     "name": "stderr",
     "output_type": "stream",
     "text": [
      "100%|██████████| 20/20 [01:29<00:00,  4.47s/it]\n"
     ]
    }
   ],
   "source": [
    "relative_presyn_coords_flatmap, distancess_flatmap = dist_cells.determine_presynaptic_distances(cells_df, col_prefix=\"flatmap_\")\n",
    "all_shuffled_distances_flatmap, _ = (\n",
    "    dist_cells.create_barcode_shuffled_nulls_parallel(\n",
    "        cells_df, N_iter=20, col_prefix=\"flatmap_\"\n",
    "    )\n",
    ")"
   ]
  },
  {
   "cell_type": "code",
   "execution_count": 9,
   "metadata": {},
   "outputs": [],
   "source": [
    "atlas_size = 10\n",
    "bin_image = spatial.prepare_area_labels(atlas_size=10)\n"
   ]
  },
  {
   "cell_type": "code",
   "execution_count": 10,
   "metadata": {},
   "outputs": [],
   "source": [
    "cortex_bin_image = spatial.prepare_area_labels(\n",
    "    atlas_size=10,\n",
    "    structures=[ \n",
    "        \"root\", \"CTX\", \"MB\", \"DG\", \"DG-mo\", \"DG-sg\", \n",
    "        \"SCdg\", \"SCdw\", \"SCig\", \"SCiw\", \"SCop\", \"SCsg\", \n",
    "        \"SCzo\", \"PAG\", \"MRN\", \"TH\", \"RN\", \"VISp\", \"VISl\",\n",
    "        \"VISli\", \"VISal\", \"VISam\", \"VISpm\", \"AUDp\", \"AUDd\",\n",
    "        \"RSP\", \"TEa\", \"AUDpo\", \"AUDv\", \"ECT\", \"ENTl\"\n",
    "    ],\n",
    "    xpos=861,\n",
    ")\n"
   ]
  },
  {
   "cell_type": "code",
   "execution_count": 11,
   "metadata": {},
   "outputs": [],
   "source": [
    "barcode_10bp = {}\n",
    "for barcode in cells_df[\"unique_barcodes\"].explode().unique():\n",
    "    barcode_10bp[barcode[:10]] = barcode"
   ]
  },
  {
   "cell_type": "code",
   "execution_count": null,
   "metadata": {},
   "outputs": [
    {
     "name": "stderr",
     "output_type": "stream",
     "text": [
      "c:\\users\\znamenp\\code\\brisc\\brisc\\manuscript_analysis\\spatial_plots_rabies.py:59: SettingWithCopyWarning: \n",
      "A value is trying to be set on a copy of a slice from a DataFrame.\n",
      "Try using .loc[row_indexer,col_indexer] = value instead\n",
      "\n",
      "See the caveats in the documentation: https://pandas.pydata.org/pandas-docs/stable/user_guide/indexing.html#returning-a-view-versus-a-copy\n",
      "  cells_inside[\"cortical_area\"] = cells_inside[\"cortical_area\"].astype(\"category\")\n",
      "c:\\users\\znamenp\\code\\brisc\\brisc\\manuscript_analysis\\spatial_plots_rabies.py:60: SettingWithCopyWarning: \n",
      "A value is trying to be set on a copy of a slice from a DataFrame.\n",
      "Try using .loc[row_indexer,col_indexer] = value instead\n",
      "\n",
      "See the caveats in the documentation: https://pandas.pydata.org/pandas-docs/stable/user_guide/indexing.html#returning-a-view-versus-a-copy\n",
      "  cells_inside[\"cortical_layer\"] = cells_inside[\"cortical_layer\"].astype(\"category\")\n"
     ]
    }
   ],
   "source": [
    "fontsize_dict = {\"title\": 8, \"label\": 7, \"tick\": 6, \"legend\": 6}\n",
    "pad_dict = {\"label\": 1, \"tick\": 1, \"legend\": 5}\n",
    "line_width = 0.9\n",
    "line_alpha = 1\n",
    "\n",
    "cm = 1 / 2.54\n",
    "fig = plt.figure(figsize=(17.4 * cm, 17.4 * cm), dpi=300)\n",
    "data_path = main_path  / \"home/shared/projects/barcode_diversity_analysis/collapsed_barcodes/\"\n",
    "save_path = main_path / \"home/shared/presentations/becalick_2025\"\n",
    "\n",
    "save_fig = True\n",
    "figname = \"fig3_presynaptic_networks\"\n",
    "\n",
    "ax_coronal = fig.add_axes([-0.01, 0.75, 0.31, 0.22])\n",
    "ax_flatmap = fig.add_axes([0.28, 0.83, 0.23, 0.12])\n",
    "\n",
    "spatial.plot_all_rv_cells(\n",
    "    cells_df,\n",
    "    ax_coronal,\n",
    "    ax_flatmap,\n",
    "    bin_image,\n",
    "    legend_fontsize=6,\n",
    "    atlas_size=10,\n",
    "    area_colors={\n",
    "        'AUDp': \"limegreen\", \n",
    "        'AUDpo': \"mediumseagreen\", \n",
    "        'AUDv': \"springgreen\", \n",
    "        'RSP': \"darkorchid\", \n",
    "        'TEa': \"forestgreen\", \n",
    "        'ECT': \"darkolivegreen\",\n",
    "        'TH': \"orangered\", \n",
    "        'VISal': \"aquamarine\", \n",
    "        'VISl': \"darkturquoise\", \n",
    "        'VISli': \"mediumaquamarine\",\n",
    "        'VISp': \"deepskyblue\", \n",
    "        'VISpm': \"royalblue\", \n",
    "    }\n",
    ")\n",
    "\n",
    "# ax_v1_rabies = fig.add_axes([0.60, 0.78, 0.1, 0.15])\n",
    "ax_density = fig.add_axes([0.60, 0.78, 0.08, 0.15])\n",
    "spatial.plot_layer_distribution(\n",
    "    None,\n",
    "    ax_density,\n",
    "    cells_df,\n",
    "    label_fontsize=fontsize_dict[\"label\"],\n",
    "    tick_fontsize=fontsize_dict[\"tick\"],\n",
    "    show_cells=False,\n",
    ")\n",
    "\n",
    "ax_starters_per_presynaptic = fig.add_axes([0.77, 0.78, 0.08, 0.15])\n",
    "bc_cells.plot_hist(\n",
    "    presynaptic,\n",
    "    col=\"n_starters\",\n",
    "    ax=ax_starters_per_presynaptic,\n",
    "    tick_fontsize=fontsize_dict[\"tick\"],\n",
    "    show_zero=False,\n",
    "    show_counts=True,\n",
    "    max_val=4,\n",
    ")\n",
    "ax_starters_per_presynaptic.set_ylabel(\"Proportion of cells\", fontsize=fontsize_dict[\"label\"])\n",
    "ax_starters_per_presynaptic.set_xlabel(\"Connected starters\", fontsize=fontsize_dict[\"label\"])\n",
    "\n",
    "\n",
    "ax_stack = fig.add_axes([0.93, 0.78, 0.10, 0.15])\n",
    "bc_cells.plot_multibarcoded_starters(\n",
    "    multibarcoded_starters,\n",
    "    ax_stack,\n",
    "    label_fontsize=fontsize_dict[\"label\"],\n",
    "    tick_fontsize=fontsize_dict[\"tick\"],\n",
    "    legend_fontsize=fontsize_dict[\"legend\"],\n",
    "    barcode_proportion=False,\n",
    ")\n",
    "\n",
    "\n",
    "barcodes =  [\n",
    "    'TGTCACTTGCATCC',\n",
    "    'GCTTCATGCAATTG',\n",
    "    'TACAGCCAAATTTC',\n",
    "    'GCTCTTCCTTAATA',\n",
    "    'ATAAATAAGGCGCT'\n",
    "]\n",
    "ax_coronal_examples = fig.add_axes([0.0, 0.41, 0.4, 0.33])\n",
    "ax_flatmap_examples = fig.add_axes([0.39, 0.44, 0.33, 0.33])\n",
    "\n",
    "spatial.plot_example_barcodes(\n",
    "    cells_df,\n",
    "    ax_coronal_examples,\n",
    "    ax_flatmap_examples,\n",
    "    bin_image,\n",
    "    barcodes=barcodes,\n",
    "    barcode_colors=[\"crimson\", \"dodgerblue\", \"darkviolet\", \"orangered\", \"forestgreen\"],\n",
    "    legend_fontsize=6,\n",
    "    atlas_size=10,\n",
    "    starter_marker_size=25,\n",
    "    presynaptic_marker_size=3,\n",
    ")\n",
    "\n",
    "\n",
    "ax_presyn_shared = fig.add_axes([0.83, 0.62, 0.17, 0.12])\n",
    "\n",
    "dist_cells.plot_relative_coors(\n",
    "    relative_presyn_coords_flatmap / 100,\n",
    "    ax=ax_presyn_shared,\n",
    "    s=1,\n",
    "    alpha=0.05,\n",
    "    color=\"black\",\n",
    "    label_fontsize=fontsize_dict[\"label\"],\n",
    "    tick_fontsize=fontsize_dict[\"tick\"],\n",
    "    coors_to_plot=(0, 2),\n",
    "    lims=((-5, 5), (-1, 1)),\n",
    "    labels=(\"\", \"\")\n",
    ")\n",
    "ax_presyn_shared.text(5, 1, \"Observed\", ha=\"right\", va=\"bottom\", fontsize=fontsize_dict[\"legend\"])\n",
    "ax_presyn_shared.set_xticklabels([])\n",
    "\n",
    "ax_presyn_shuffled = fig.add_axes([0.83, 0.55, 0.17, 0.12])\n",
    "dist_cells.plot_relative_coors(\n",
    "    all_shuffled_distances_flatmap[0] / 100,\n",
    "    ax=ax_presyn_shuffled,\n",
    "    s=1,\n",
    "    alpha=0.05,\n",
    "    color=\"black\",\n",
    "    label_fontsize=fontsize_dict[\"label\"],\n",
    "    tick_fontsize=fontsize_dict[\"tick\"],\n",
    "    coors_to_plot=(0, 2),\n",
    "    lims=((-5, 5), (-1, 1)),\n",
    "    labels=(\"\", \"            Relative cortical\\n              depth (mm)\")\n",
    ")\n",
    "ax_presyn_shuffled.text(5, 1, \"Shuffle\", ha=\"right\", va=\"bottom\", fontsize=fontsize_dict[\"legend\"])\n",
    "ax_presyn_shuffled.set_xticklabels([])\n",
    "\n",
    "ax_kdeplot = fig.add_axes([0.83, 0.46, 0.17, 0.10])\n",
    "sns.kdeplot(\n",
    "    relative_presyn_coords_flatmap[:, 0] / 100, \n",
    "    label=\"Observed\", \n",
    "    ax=ax_kdeplot,\n",
    "    color=\"black\",\n",
    "    linewidth=0.9,\n",
    ")\n",
    "sns.kdeplot(\n",
    "    all_shuffled_distances_flatmap[0][:, 0] / 100, \n",
    "    label=\"Shuffle\", \n",
    "    ax=ax_kdeplot,\n",
    "    color=\"black\",\n",
    "    linewidth=0.9,\n",
    "    linestyle=\":\",\n",
    ")\n",
    "ax_kdeplot.set_xlabel(\"Relative M-L location (mm)\", fontsize=fontsize_dict[\"label\"])\n",
    "ax_kdeplot.set_ylabel(\"Density\", fontsize=fontsize_dict[\"label\"])\n",
    "\n",
    "plt.xlim(-5, 5)\n",
    "sns.despine()\n",
    "ax_kdeplot.legend(\n",
    "    loc=\"lower right\",\n",
    "    fontsize=fontsize_dict[\"legend\"],\n",
    "    frameon=False,\n",
    "    bbox_to_anchor=(1.1, 0.6),\n",
    "    handlelength=1,\n",
    "    handletextpad=0.5,\n",
    ")\n",
    "ax_kdeplot.tick_params(axis=\"both\", which=\"major\", labelsize=fontsize_dict[\"tick\"])\n",
    "ax_kdeplot.set_yticks([0, 0.5])\n",
    "\n",
    "# ax_dist_between_starters = fig.add_axes(ax_locations[8])\n",
    "# im = dist_cells.plot_dist_between_starters(\n",
    "#     distances_diff_bc_nonadj,\n",
    "#     distances_same_bc_nonadj,\n",
    "#     ax=ax_dist_between_starters,\n",
    "#     bins=40,\n",
    "#     max_dist=2,\n",
    "#     label_fontsize=fontsize_dict[\"label\"],\n",
    "#     tick_fontsize=fontsize_dict[\"tick\"],\n",
    "#     line_width=line_width,\n",
    "# )\n",
    "\n",
    "\n",
    "\n",
    "\n",
    "\n",
    "\n",
    "\n",
    "# 1 Presynaptic distance shared barcode\n",
    "# 2 Presynaptic distance shuffled barcode\n",
    "\n",
    "\n",
    "\n",
    "if save_fig:\n",
    "    fig.savefig(save_path / f\"{figname}.pdf\", format=\"pdf\")\n",
    "    fig.savefig(save_path / f\"{figname}.png\", format=\"png\")"
   ]
  }
 ],
 "metadata": {
  "kernelspec": {
   "display_name": "brisc",
   "language": "python",
   "name": "python3"
  },
  "language_info": {
   "codemirror_mode": {
    "name": "ipython",
    "version": 3
   },
   "file_extension": ".py",
   "mimetype": "text/x-python",
   "name": "python",
   "nbconvert_exporter": "python",
   "pygments_lexer": "ipython3",
   "version": "3.9.21"
  }
 },
 "nbformat": 4,
 "nbformat_minor": 2
}
