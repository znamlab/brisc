{
 "cells": [
  {
   "cell_type": "markdown",
   "id": "af38281b",
   "metadata": {},
   "source": [
    "Print numbers used in the manuscript but that are not corresponding to a figure notebook"
   ]
  },
  {
   "cell_type": "code",
   "execution_count": null,
   "id": "4ffe17fe",
   "metadata": {},
   "outputs": [],
   "source": [
    "import numpy as np\n",
    "from iss_preprocess.io import get_processed_path, load_stack, load_section_position\n",
    "from iss_preprocess.pipeline.ara_registration import load_registration_reference_metadata\n",
    "data_path = 'becalia_rabies_barseq/BRAC8498.3e'\n",
    "\n",
    "thickness = 20\n",
    "atlas_size=10\n",
    "total = 0\n",
    "px_sizes = []\n",
    "for chamber in range(7,11):\n",
    "    dp =data_path + f'/chamber_{chamber:02d}' \n",
    "    save_folder = get_processed_path(dp) / \"register_to_ara\" / \"area_images\"\n",
    "    print(dp)\n",
    "    for roi in range(1,11):\n",
    "        fname = save_folder / f\"area_image_r{roi}_ara{atlas_size}.tif\"\n",
    "        area_id = load_stack(str(fname))[...,0]\n",
    "        metadata = load_registration_reference_metadata(dp, roi)\n",
    "        px_sizes.append(metadata['pixel_size'])\n",
    "        # count pixel in brain\n",
    "        npx = np.nansum(area_id !=0)\n",
    "        total += npx\n",
    "assert all([p == px_sizes[0] for p in px_sizes])\n",
    "voxel_volume = (px_sizes[0]/1000)**2 * thickness/1000\n",
    "print(f\"Total of {total} pixels of {px_sizes[0]:.2f}x{px_sizes[0]:.2f}x{thickness}um, {total*voxel_volume:.2f} mm$^3$\")\n",
    "\n",
    "        "
   ]
  },
  {
   "cell_type": "code",
   "execution_count": null,
   "id": "52d3194d",
   "metadata": {},
   "outputs": [],
   "source": []
  }
 ],
 "metadata": {
  "kernelspec": {
   "language": "python"
  },
  "language_info": {
   "codemirror_mode": {
    "name": "ipython",
    "version": 3
   },
   "file_extension": ".py",
   "mimetype": "text/x-python",
   "name": "python",
   "nbconvert_exporter": "python",
   "pygments_lexer": "ipython3"
  }
 },
 "nbformat": 4,
 "nbformat_minor": 5
}
