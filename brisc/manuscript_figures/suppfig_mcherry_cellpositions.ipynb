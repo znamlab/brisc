{
 "cells": [
  {
   "cell_type": "code",
   "execution_count": null,
   "id": "ef4d5b7c",
   "metadata": {},
   "outputs": [],
   "source": [
    "%load_ext autoreload\n",
    "%autoreload 2"
   ]
  },
  {
   "cell_type": "code",
   "execution_count": null,
   "id": "594977dd",
   "metadata": {},
   "outputs": [],
   "source": [
    "from iss_analysis.io import get_mcherry_cells\n",
    "import matplotlib.pyplot as plt\n",
    "import matplotlib\n",
    "import matplotlib.font_manager as fm\n",
    "from pathlib import Path\n",
    "\n",
    "arial_font_path = \"/nemo/lab/znamenskiyp/home/shared/resources/fonts/arial.ttf\"  # update path as needed\n",
    "arial_prop = fm.FontProperties(fname=arial_font_path)\n",
    "plt.rcParams[\"font.family\"] = arial_prop.get_name()\n",
    "fm.fontManager.addfont(arial_font_path)\n",
    "matplotlib.rcParams[\"pdf.fonttype\"] = 42  # for pdfs\n",
    "main_path = Path(\"/nemo/lab/znamenskiyp/\")\n",
    "\n",
    "project = 'becalia_rabies_barseq'\n",
    "mouse = 'BRAC8498.3e'\n",
    "\n",
    "# Get the good mCherry cells, i.e. the one for which we have masks and we match the \n",
    "# starters\n",
    "mcherry_curated = get_mcherry_cells(\n",
    "    project, mouse, verbose=True, which=\"curated\", prefix=\"mCherry_1\"\n",
    ")\n",
    "# For chamber6, detection fails because of high background, use the manual click instead\n",
    "mcherry_manual =  get_mcherry_cells(\n",
    "    project, mouse, verbose=True, which=\"manual\", prefix=\"mCherry_1\"\n",
    ")\n",
    "\n",
    "m6 = mcherry_manual.query(\"chamber == 'chamber_06'\")\n",
    "n6 = len(m6)\n",
    "total = len(mcherry_curated) + n6\n",
    "\n",
    "print(f\"{n6} cells in chamber 6 out of {total}, that's {n6/total*100:.2f}%\")"
   ]
  },
  {
   "cell_type": "code",
   "execution_count": null,
   "id": "cbfd9b93",
   "metadata": {},
   "outputs": [],
   "source": [
    "import matplotlib.pyplot as plt\n",
    "\n",
    "# Plot manual for chamber 6\n",
    "m6 = mcherry_manual.query(\"chamber == 'chamber_06'\")\n",
    "m6 = m6.groupby('roi').aggregate(len).x\n",
    "plt.plot(m6.index.astype(int)-10, m6.values, 'o-')\n",
    "\n",
    "# Plot curated for the other\n",
    "n=10\n",
    "for c in ['07','08','09','10']:\n",
    "    df = mcherry_curated.query(f\"chamber == 'chamber_{c}'\")\n",
    "    d = df.groupby('roi').aggregate(len).x\n",
    "    plt.plot(d.index + n, d.values, 'o-')\n",
    "    n += d.index.max()\n",
    "\n",
    "plt.xlabel('Slice index')\n",
    "plt.ylabel('# of mcherry cells')"
   ]
  },
  {
   "cell_type": "code",
   "execution_count": null,
   "id": "4f73f239",
   "metadata": {},
   "outputs": [],
   "source": [
    "from brisc.manuscript_analysis import starter_cell_counting as sc_count\n",
    "DATA_ROOT = Path(\"/nemo/lab/znamenskiyp\")"
   ]
  },
  {
   "cell_type": "code",
   "execution_count": null,
   "id": "822ca2ed",
   "metadata": {},
   "outputs": [],
   "source": [
    "# Add the starter position\n",
    "from iss_analysis.io import get_starter_cells, get_sections_info\n",
    "import numpy as np\n",
    "save_fig = True\n",
    "save_path = main_path / \"home/shared/presentations/becalick_2025\"\n",
    "fontsize_dict = {\"title\": 8, \"label\": 8, \"tick\": 6, \"legend\": 6}\n",
    "cm = 1 / 2.54\n",
    "\n",
    "sec_inf = get_sections_info(project, mouse, chamber=None)\n",
    "starters_positions = get_starter_cells(project, mouse)\n",
    "fig = plt.figure(figsize=(11.5 * cm, 5 * cm), dpi=600)\n",
    "# Cell density vs PhP.eB dilution\n",
    "ax_starter_density= fig.add_subplot(1,2,1)\n",
    "im = sc_count.plot_starter_dilution_densities(\n",
    "    ax_starter_density,\n",
    "    label_fontsize=fontsize_dict[\"label\"],\n",
    "    tick_fontsize=fontsize_dict[\"tick\"],\n",
    "    processed=DATA_ROOT / \"home/shared/projects\",\n",
    ")\n",
    "ax_starter_density.set_yscale('log')\n",
    "ax = fig.add_subplot(1,2,2)\n",
    "axt = ax.twinx()\n",
    "ax.plot((m6.index.astype(int)-10)*20, m6.values, 'o-',  ms=3,color='grey')\n",
    "n = 10\n",
    "\n",
    "for c in ['07','08','09','10']:\n",
    "    df = mcherry_curated.query(f\"chamber == 'chamber_{c}'\")\n",
    "    d = df.groupby('roi').aggregate(len).x\n",
    "    ax.plot((d.index + n)*20, d.values, 'o-', ms=3,\n",
    "            color='darkred', label='mCherry cells' if c=='10' else '__no_label__')\n",
    "    sdf = starters_positions.query(f\"chamber == 'chamber_{c}'\")\n",
    "    if len(sdf):\n",
    "        sd = sdf.groupby('roi').aggregate(len).y\n",
    "        axt.plot((sd.index + n)*20, sd.values, 's-',  ms=3, color='dodgerblue', label='Starter cells' if c=='10' else '__no_label__') \n",
    "    n += d.index.max()\n",
    "axt.set_ylabel('# of starter cells', color='dodgerblue', fontsize=fontsize_dict['label'])\n",
    "ax.set_yticks(np.arange(0,201,50))\n",
    "ax.set_yticklabels(np.arange(0,201,50), color='darkred', fontsize=fontsize_dict['tick'])\n",
    "ax.set_ylim(0, 200)\n",
    "axt.set_yticks(np.arange(0, 81, 20))\n",
    "axt.set_yticklabels(np.arange(0, 81, 20), color='dodgerblue', fontsize=fontsize_dict['tick'])\n",
    "axt.set_ylim(0, 80)\n",
    "ax.set_xlabel(r'Slice A/P position ($\\mu m$)', fontsize=fontsize_dict['label'])\n",
    "ax.set_ylabel('# of mCherry cells', color='darkred', fontsize=fontsize_dict['label'])\n",
    "xt = np.arange(0, 1001, 500)\n",
    "ax.set_xticks(xt, labels=xt, fontsize=fontsize_dict['tick'])\n",
    "fig.tight_layout()\n",
    "\n",
    "if save_fig:\n",
    "    fig.savefig(save_path / \"supplementary_figure_3a.pdf\")"
   ]
  },
  {
   "cell_type": "code",
   "execution_count": null,
   "id": "152f1766",
   "metadata": {},
   "outputs": [],
   "source": [
    "import pandas as pd\n",
    "project = \"rabies_barcoding\"\n",
    "processed=Path(\"/nemo/lab/znamenskiyp/home/shared/projects/\")\n",
    "mouse_csv = processed / project / \"mice_list.csv\"\n",
    "mice_df = pd.read_csv(mouse_csv, skipinitialspace=True)\n",
    "mice_df.set_index(\"Mouse\", inplace=True, drop=False)\n"
   ]
  },
  {
   "cell_type": "code",
   "execution_count": null,
   "id": "f02c72e4",
   "metadata": {},
   "outputs": [],
   "source": [
    "mice_df"
   ]
  },
  {
   "cell_type": "code",
   "execution_count": null,
   "id": "9e35f83d",
   "metadata": {},
   "outputs": [],
   "source": []
  }
 ],
 "metadata": {
  "kernelspec": {
   "language": "python"
  },
  "language_info": {
   "codemirror_mode": {
    "name": "ipython",
    "version": 3
   },
   "file_extension": ".py",
   "mimetype": "text/x-python",
   "name": "python",
   "nbconvert_exporter": "python",
   "pygments_lexer": "ipython3"
  }
 },
 "nbformat": 4,
 "nbformat_minor": 5
}
