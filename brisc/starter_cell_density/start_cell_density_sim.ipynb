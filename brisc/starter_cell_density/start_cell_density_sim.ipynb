{
 "cells": [
  {
   "cell_type": "code",
   "execution_count": null,
   "metadata": {},
   "outputs": [],
   "source": [
    "import numpy as np\n",
    "import matplotlib.pyplot as plt\n",
    "\n",
    "# logarithmically spaced values from 0.0001 to 0.01\n",
    "density = np.logspace(-4, 0, num=50)\n",
    "ns = [10, 20, 40]\n",
    "for n in ns:\n",
    "    p = 1 - (1 - density) ** n\n",
    "    plt.loglog(density, p)\n",
    "\n",
    "plt.hlines(0.05, 1e-4, 1, linestyles=\"dashed\", colors=\"black\")\n",
    "plt.xlabel(\"Density of starter neurons as a fraction of all cells\")\n",
    "plt.ylabel(\"Probability of spread between starter neurons\")\n",
    "plt.legend([\"10\", \"20\", \"40\"], title=\"Presynaptic cells per starter\")\n",
    "# legend title \"Presynaptic cells per starter\"\n",
    "\n",
    "plt.figure()\n",
    "for n in ns:\n",
    "    p = 1 - (1 - density) ** n\n",
    "    plt.loglog(density * 150000, p)\n",
    "\n",
    "plt.hlines(0.05, 1e-4 * 150000, 1 * 150000, linestyles=\"dashed\", colors=\"black\")\n",
    "plt.xlim(10, 250000)\n",
    "plt.xlabel(\"Density of starter neurons (mm$^{-3}$)\")\n",
    "plt.ylabel(\"Probability of spread between starter neurons\")\n",
    "plt.legend([\"10\", \"20\", \"40\"], title=\"Presynaptic cells per starter\")\n",
    "# legend title \"Presynaptic cells per starter\""
   ]
  }
 ],
 "metadata": {
  "kernelspec": {
   "display_name": "brisc",
   "language": "python",
   "name": "python3"
  },
  "language_info": {
   "name": "python",
   "version": "3.11.4"
  }
 },
 "nbformat": 4,
 "nbformat_minor": 2
}
