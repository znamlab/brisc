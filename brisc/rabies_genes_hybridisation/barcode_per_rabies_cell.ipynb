{
 "cells": [
  {
   "cell_type": "markdown",
   "metadata": {},
   "source": [
    "# Barcode per rabies cell\n",
    "\n",
    "We have 2 hybridisation probes: one for all rabies genes and one for the padlocks.\n",
    "Detect cells using the hybridisation probes and then count the number of rabies padlocks in each cell."
   ]
  },
  {
   "cell_type": "code",
   "execution_count": null,
   "metadata": {},
   "outputs": [],
   "source": [
    "%load_ext autoreload\n",
    "%autoreload 2"
   ]
  },
  {
   "cell_type": "code",
   "execution_count": null,
   "metadata": {},
   "outputs": [],
   "source": [
    "import iss_preprocess as issp\n",
    "import matplotlib.pyplot as plt\n",
    "import numpy as np\n",
    "import pandas as pd\n"
   ]
  },
  {
   "cell_type": "code",
   "execution_count": null,
   "metadata": {},
   "outputs": [],
   "source": [
    "project = 'becalia_rabies_barseq'\n",
    "mouse = 'BRAC8780.3f'\n",
    "chamber = 'chamber_08'\n",
    "prefix = 'hybridisation_round_1_1'"
   ]
  },
  {
   "cell_type": "code",
   "execution_count": null,
   "metadata": {},
   "outputs": [],
   "source": [
    "data_path = f\"{project}/{mouse}/{chamber}\"\n",
    "print(data_path)\n",
    "ops = issp.io.load_ops(data_path)\n",
    "roi_dims = issp.io.load.get_roi_dimensions(data_path, prefix=prefix)"
   ]
  },
  {
   "cell_type": "code",
   "execution_count": null,
   "metadata": {},
   "outputs": [],
   "source": [
    "example_tile, bad_px = issp.pipeline.load_and_register_tile(data_path, prefix=prefix, tile_coors=(10,0,0), projection='max-median', correct_illumination=False, filter_r=False)\n",
    "# keep only round 1\n",
    "example_tile = example_tile[...,0]\n",
    "fig, axes = plt.subplots(2,2, figsize=(15,10))\n",
    "for iax, ax in enumerate(axes.flat):\n",
    "    vmax = np.percentile(example_tile[...,iax], 99)\n",
    "    ax.imshow(example_tile[...,iax], interpolation='none', cmap='inferno', vmax=vmax)\n",
    "    ax.set_title(f'Channel {iax} - vmax {int(vmax)}')\n",
    "    ax.set_axis_off()\n",
    "fig.tight_layout()\n",
    "print(example_tile.shape)"
   ]
  },
  {
   "cell_type": "code",
   "execution_count": null,
   "metadata": {},
   "outputs": [],
   "source": [
    "rab_genes_channel = 1\n",
    "padlock_channel = 3\n",
    "chans = [rab_genes_channel, padlock_channel]\n",
    "colors = [(1, 0, 0), (0, 1, 0)]\n",
    "vmaxs = [500,200]\n",
    "print(example_tile[...,chans].shape)\n",
    "rgb = issp.vis.to_rgb(example_tile[...,chans], colors=colors, vmin=[0,0], vmax=vmaxs)\n",
    "plt.figure(figsize=(10,10))\n",
    "plt.imshow(rgb)\n",
    "plt.axis('off')"
   ]
  },
  {
   "cell_type": "code",
   "execution_count": null,
   "metadata": {},
   "outputs": [],
   "source": [
    "import cv2\n",
    "from skimage.segmentation import expand_labels\n",
    "from skimage import measure\n",
    "\n",
    "def detect_rab_cells(stack, rab_genes_channel=1, padlock_channel=3, r1=9, r2=41, threshold=100, footprint=10):\n",
    "    rab_genes = stack[...,rab_genes_channel]\n",
    "    chans = [rab_genes_channel, padlock_channel]\n",
    "    binary = issp.pipeline.segment._filter_mcherry_masks(rab_genes, r1, r2, threshold, footprint=footprint)\n",
    "    labeled_image = measure.label(binary)\n",
    "    labeled_image = expand_labels(labeled_image, distance=footprint)\n",
    "    labeled_image, props_df = issp.segment.cells.label_image(binary, example_tile[...,chans])\n",
    "    return labeled_image, props_df"
   ]
  },
  {
   "cell_type": "code",
   "execution_count": null,
   "metadata": {},
   "outputs": [],
   "source": [
    "# Detect rabies cells from gene channel\n",
    "r1= 9\n",
    "r2 = 37\n",
    "footprint = 10\n",
    "threshold = 100\n",
    "labeled_image, props_df = detect_rab_cells(example_tile, rab_genes_channel=rab_genes_channel, padlock_channel=padlock_channel, r1=r1, r2=r2, threshold=threshold, footprint=footprint)\n",
    "\n",
    "rab_genes = example_tile[...,rab_genes_channel]\n",
    "\n",
    "fig, ax = plt.subplots(1,1, figsize=(10, 10))\n",
    "ax.imshow(rab_genes, cmap='Greys_r', vmax=1000, vmin=0)\n",
    "ax.contour(labeled_image, levels=np.arange(labeled_image.max()) + 0.5, colors='g', linewidths=0.5)\n",
    "lab = labeled_image.astype(float)\n",
    "lab[lab == 0] = np.nan\n",
    "ax.imshow(lab%20, cmap='tab20', alpha=0.5)\n",
    "ax.set_axis_off()\n",
    "fig.tight_layout()"
   ]
  },
  {
   "cell_type": "code",
   "execution_count": null,
   "metadata": {},
   "outputs": [],
   "source": [
    "# Detect rabies spots from padlock channel\n",
    "th = 20\n",
    "\n",
    "padlock = example_tile[...,padlock_channel]\n",
    "filtered = issp.image.filter_stack(padlock, r1=2, r2=4)\n",
    "spots = issp.segment.detect_spots(filtered, threshold=th, spot_size=2)\n",
    "\n",
    "\n",
    "fig, axes = plt.subplots(1,2, figsize=(15,10))\n",
    "issp.vis.plot_matrix_with_colorbar(filtered,ax=axes[0], cmap='coolwarm', vmax=th, vmin=-th)\n",
    "axes[1].imshow(padlock, cmap='Greys_r', vmax=200, vmin=0)\n",
    "axes[1].scatter(spots.x, spots.y, c='none',edgecolors='g', s=100, marker='o', facecolors='none')\n",
    "for ax in axes:\n",
    "    ax.set_xlim(1000,2000)\n",
    "    ax.set_ylim(1000,2000)\n",
    "    ax.set_axis_off()"
   ]
  },
  {
   "cell_type": "markdown",
   "metadata": {},
   "source": [
    "# Run on all tiles\n",
    "\n",
    "Repeat on all rabies tiles."
   ]
  },
  {
   "cell_type": "code",
   "execution_count": null,
   "metadata": {},
   "outputs": [],
   "source": [
    "from skimage.segmentation import expand_labels\n",
    "\n",
    "rab_cells, spots_dfs = [], []\n",
    "rabies_stack = None\n",
    "labeled_images = None\n",
    "for roi in roi_dims[:,0]:\n",
    "    print(f\"Processing roi {roi}\")\n",
    "    stack, bad_px = issp.pipeline.load_and_register_tile(data_path, prefix=prefix, tile_coors=(roi,0,0), projection='max-median', correct_illumination=False, filter_r=False)\n",
    "    stack = stack[...,0]\n",
    "    labeled_image, props_df = detect_rab_cells(stack, rab_genes_channel=rab_genes_channel, padlock_channel=padlock_channel, r1=r1, r2=r2, threshold=threshold, footprint=footprint)\n",
    "    labeled_image = expand_labels(labeled_image, int(5/0.23))\n",
    "    padlock = stack[...,padlock_channel]\n",
    "    filtered = issp.image.filter_stack(padlock, r1=2, r2=4)\n",
    "    spots = issp.segment.detect_spots(filtered, threshold=th, spot_size=2)\n",
    "    spots['mask_id'] = labeled_image[spots.y, spots.x]\n",
    "    spots['roi'] = roi\n",
    "    props_df['roi'] = roi\n",
    "\n",
    "    rab_cells.append(props_df)\n",
    "    spots_dfs.append(spots)\n",
    "    if rabies_stack is None:\n",
    "        rabies_stack = np.zeros((stack.shape[0], stack.shape[1], 2, len(roi_dims)))\n",
    "        labeled_images = np.zeros((stack.shape[0], stack.shape[1], len(roi_dims)))\n",
    "    rabies_stack[... ,roi-1] = stack[...,chans].copy()\n",
    "    labeled_images[..., roi -1] = labeled_image\n",
    "\n"
   ]
  },
  {
   "cell_type": "code",
   "execution_count": null,
   "metadata": {},
   "outputs": [],
   "source": [
    "rab_cells = pd.concat(rab_cells)\n",
    "spots_df = pd.concat(spots_dfs)\n",
    "ops = issp.io.load_ops(data_path)\n",
    "good_cells = issp.pipeline.segment._filter_masks(ops, rab_cells, labeled_image=None).copy()\n"
   ]
  },
  {
   "cell_type": "code",
   "execution_count": null,
   "metadata": {},
   "outputs": [],
   "source": [
    "good_cells['cell_uid'] = good_cells['roi'].astype(str) + '_' + good_cells['label'].astype(str)\n",
    "spots_df['cell_uid'] = spots_df['roi'].astype(str) + '_' + spots_df['mask_id'].astype(str)\n",
    "spots_df['valid_cell'] = spots_df['cell_uid'].isin(good_cells['cell_uid'])\n",
    "spots_df['valid_cell'].value_counts()"
   ]
  },
  {
   "cell_type": "code",
   "execution_count": null,
   "metadata": {},
   "outputs": [],
   "source": [
    "print(good_cells.shape)\n",
    "print(len(good_cells))"
   ]
  },
  {
   "cell_type": "code",
   "execution_count": null,
   "metadata": {},
   "outputs": [],
   "source": []
  },
  {
   "cell_type": "code",
   "execution_count": null,
   "metadata": {},
   "outputs": [],
   "source": [
    "print(f\"Number of cells: {len(good_cells)}\")\n",
    "good_cells['spot_count'] = 0\n",
    "for cell_uid, count in spots_df['cell_uid'].value_counts().items():\n",
    "    good_cells.loc[good_cells['cell_uid'] == cell_uid, 'spot_count'] = count\n",
    "\n",
    "\n",
    "fig, axes = plt.subplots(1,2, figsize=(8,3))\n",
    "axes[0].hist(good_cells['spot_count'], bins=np.arange(40)-0.5)\n",
    "perc, bins, bars = axes[1].hist(good_cells['spot_count'], bins=np.arange(50)-0.5, cumulative=True, density=True)\n",
    "\n",
    "\n",
    "for n in [1,3,5]:\n",
    "    lt_n = good_cells['spot_count'].lt(n).sum()\n",
    "    print(f\"Cells with less than {n} spots: {lt_n}, {lt_n/len(good_cells)*100:.2f}%\")\n",
    "axes[0].set_xlabel(\"Barcode spots per cell\")\n",
    "axes[1].set_xlabel(\"Barcode spots per cell\")\n",
    "axes[0].set_ylabel(\"# of Cells\")\n",
    "axes[1].set_ylabel(\"Cumulative fraction\")\n",
    "axes[1].set_xlim(0, 20)\n",
    "axes[1].set_ylim(0, 1)\n",
    "axes[0].set_xlim(-0.5, 40)\n",
    "fig.tight_layout()\n"
   ]
  },
  {
   "cell_type": "code",
   "execution_count": null,
   "metadata": {},
   "outputs": [],
   "source": [
    "no_spot = good_cells[good_cells['spot_count'] == 0]\n",
    "\n",
    "# select 16 randomly\n",
    "no_spot = no_spot.sample(16)\n",
    "\n",
    "fig, axes = plt.subplots(4,4, figsize=(20, 20))\n",
    "for iax, (i, row) in enumerate(no_spot.iterrows()):\n",
    "    ax = axes.ravel()[iax]\n",
    "    xl = row['centroid-1'] + np.array([-100,100])\n",
    "    yl = row['centroid-0'] + np.array([-100,100])\n",
    "    xl = np.clip(xl, 0, rabies_stack.shape[1]-1).astype(int)\n",
    "    yl = np.clip(yl, 0, rabies_stack.shape[0]-1).astype(int)\n",
    "    data = issp.vis.utils.get_stack_part(rabies_stack[...,row['roi']-1], xl, yl)\n",
    "    labels = issp.vis.utils.get_stack_part(labeled_images[...,row['roi']-1], xl, yl)\n",
    "    rgb = issp.vis.to_rgb(data, colors=colors, vmin=[0,0], vmax=vmaxs)\n",
    "    ax.imshow(rgb)\n",
    "    ax.contour(labels, levels=np.arange(labels.max()) + 0.5, colors='k', linewidths=0.5)\n",
    "    ax.set_xticks([])\n",
    "    ax.set_yticks([])\n",
    "    ax.set_title(f\"Cell {row['cell_uid']} - {int(row['area'])}\")\n",
    "fig.tight_layout()\n"
   ]
  },
  {
   "cell_type": "code",
   "execution_count": null,
   "metadata": {},
   "outputs": [],
   "source": []
  },
  {
   "cell_type": "code",
   "execution_count": null,
   "metadata": {},
   "outputs": [],
   "source": []
  }
 ],
 "metadata": {
  "kernelspec": {
   "language": "python"
  },
  "language_info": {
   "codemirror_mode": {
    "name": "ipython",
    "version": 3
   },
   "file_extension": ".py",
   "mimetype": "text/x-python",
   "name": "python",
   "nbconvert_exporter": "python",
   "pygments_lexer": "ipython3"
  }
 },
 "nbformat": 4,
 "nbformat_minor": 2
}
